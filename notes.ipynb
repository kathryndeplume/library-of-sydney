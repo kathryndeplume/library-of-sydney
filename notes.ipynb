{
 "cells": [
  {
   "cell_type": "markdown",
   "id": "6d5f537c-db23-4932-893b-9bfaee1efc59",
   "metadata": {
    "tags": []
   },
   "source": [
    "# Introduction"
   ]
  },
  {
   "cell_type": "markdown",
   "id": "69b1a1fe-ff79-438b-92a0-a58e143a14ec",
   "metadata": {},
   "source": [
    "If you were to generate an image for every possible arrangement of pixels, then you would have every single image that has ever been created, _or ever will_.\n",
    "\n",
    "Could you dig out images from the past?\n",
    "\n",
    "_From the future?_\n",
    "\n",
    "Could you find people who never existed?\n",
    "\n",
    "_Could you find yourself?_"
   ]
  },
  {
   "cell_type": "markdown",
   "id": "1d0c0104-c7c0-4186-924f-80371caa5cd3",
   "metadata": {},
   "source": [
    "# A working model"
   ]
  },
  {
   "cell_type": "markdown",
   "id": "4eed74c9-3c2f-4029-aef8-95d5f604df89",
   "metadata": {},
   "source": [
    "In this model, each pixel contains a single integer value which denotes its color.\n",
    "\n",
    "For example, an 2x2 image with 2 colors may look like this:\n",
    "\n",
    "    00\n",
    "    00\n",
    "\n",
    "There are 16 possible permutations for this image, the other 15 are:\n",
    "\n",
    "    10  01  11  00  10  01  11  00  10  01  11  00  10  01  11\n",
    "    00  00  00  10  10  10  10  01  01  01  01  11  11  11  11"
   ]
  },
  {
   "cell_type": "markdown",
   "id": "71a6bc0d-e9f5-4fbc-81ff-d66b09e84aef",
   "metadata": {
    "tags": []
   },
   "source": [
    "# Calculating permutations"
   ]
  },
  {
   "cell_type": "markdown",
   "id": "97b5fa71-bb81-4af6-8c15-796a122f611a",
   "metadata": {},
   "source": [
    "Where $p$ is the total number of pixels and $c$ is the maximum number of colors, $p$ pixels can have $c$ possible values that can be combined with each value of each other pixel in the image, or $p^{c}$."
   ]
  },
  {
   "cell_type": "code",
   "execution_count": 39,
   "id": "3eec817c-685c-467a-9f41-8a38352cf1f3",
   "metadata": {},
   "outputs": [],
   "source": [
    "def num_permutations(num_pixels, num_colors):\n",
    "    return num_pixels ** num_colors"
   ]
  },
  {
   "cell_type": "markdown",
   "id": "6090507b-9018-473d-af05-1ebf809288dd",
   "metadata": {},
   "source": [
    "We can test this function out with a few examples:"
   ]
  },
  {
   "cell_type": "code",
   "execution_count": 40,
   "id": "a22c5756-1e61-4272-8ab9-cde575f8554b",
   "metadata": {},
   "outputs": [
    {
     "data": {
      "text/plain": [
       "16"
      ]
     },
     "execution_count": 40,
     "metadata": {},
     "output_type": "execute_result"
    }
   ],
   "source": [
    "# A 2x2 image with 2 colors\n",
    "num_permutations(2*2, 2)"
   ]
  },
  {
   "cell_type": "code",
   "execution_count": 41,
   "id": "cc01e61e-5f6a-4c94-b3a9-b67d4b6f6763",
   "metadata": {},
   "outputs": [
    {
     "data": {
      "text/plain": [
       "256"
      ]
     },
     "execution_count": 41,
     "metadata": {},
     "output_type": "execute_result"
    }
   ],
   "source": [
    "# A 2x2 image with 4 colors\n",
    "num_permutations(2*2, 4)"
   ]
  },
  {
   "cell_type": "code",
   "execution_count": 42,
   "id": "15a30bd7-3614-49fe-bf2a-54117d3b1d1f",
   "metadata": {},
   "outputs": [
    {
     "data": {
      "text/plain": [
       "256"
      ]
     },
     "execution_count": 42,
     "metadata": {},
     "output_type": "execute_result"
    }
   ],
   "source": [
    "# A 4x4 image with 2 colors\n",
    "num_permutations(4*4, 2)"
   ]
  },
  {
   "cell_type": "markdown",
   "id": "eff14657-96e2-4f96-a7b5-449be7e8dac0",
   "metadata": {},
   "source": [
    "# Generating pixel data"
   ]
  },
  {
   "cell_type": "markdown",
   "id": "46c93fa3-c752-417e-bac7-9447fca90542",
   "metadata": {},
   "source": [
    "If you look at the order of the permutations in our example 2x2 image you'll notice that the pixels increment linearly and sequentially, making it trivial to devise an algorithm to determine their values:\n",
    "\n",
    "    00  10  01  11  00  10  01  11  00  10  01  11  00  10  01  11\n",
    "    00  00  00  00  10  10  10  10  01  01  01  01  11  11  11  11\n",
    "\n",
    "When generated sequentially like this, each pixel cycles through all of its color values in succession before wrapping back around to zero when its next neighbour is incremented. This continues until every pixel is equal to the maximum color value.\n",
    "\n",
    "The first pixel increments every iteration, but the second pixel increments only when the first pixel has completed its cycle and reset to zero and so it takes two iterations to change value. The third pixel increments only when the _second_ pixel has completed its cycle and reset to zero and so it takes _four_ iterations to change value.\n",
    "\n",
    "So where $i$ is the index position of a given pixel and $c$ is the maximum number of colors, the rate at which a pixel increments is determined by $c^{i}$, and we can use this to determine what value a pixel will have after a given number of iterations."
   ]
  },
  {
   "cell_type": "code",
   "execution_count": 48,
   "id": "e5dc5544-dbfd-4b89-9e75-8a16b4196009",
   "metadata": {},
   "outputs": [
    {
     "data": {
      "text/plain": [
       "1"
      ]
     },
     "execution_count": 48,
     "metadata": {},
     "output_type": "execute_result"
    }
   ],
   "source": [
    "# The first pixel increments every 1 permutation\n",
    "2 ** 0"
   ]
  },
  {
   "cell_type": "code",
   "execution_count": 49,
   "id": "b7ada3be-f616-4a89-bf53-f85a7887bc2a",
   "metadata": {},
   "outputs": [
    {
     "data": {
      "text/plain": [
       "2"
      ]
     },
     "execution_count": 49,
     "metadata": {},
     "output_type": "execute_result"
    }
   ],
   "source": [
    "# The second pixel increments every 2 permutations\n",
    "2 ** 1"
   ]
  },
  {
   "cell_type": "code",
   "execution_count": 50,
   "id": "5f9716fd-2f7c-47a4-96a7-a3b00166888c",
   "metadata": {},
   "outputs": [
    {
     "data": {
      "text/plain": [
       "4"
      ]
     },
     "execution_count": 50,
     "metadata": {},
     "output_type": "execute_result"
    }
   ],
   "source": [
    "# The third pixel increments every 4 permutations\n",
    "2 ** 2"
   ]
  },
  {
   "cell_type": "markdown",
   "id": "01f9cec2-413f-4aab-b8d8-a58aacd01f99",
   "metadata": {},
   "source": [
    "So where $p$ is the index of the iteration in the sequence and $c$ is the maximum number of colors, the value of the pixel at index position $i$ can be determined by the integer value of $int((\\frac{p}{c^{i}}) mod c)$."
   ]
  },
  {
   "cell_type": "code",
   "execution_count": 62,
   "id": "29e64fdd-5f73-4069-a6cc-8d70e96ca3fc",
   "metadata": {},
   "outputs": [],
   "source": [
    "def get_pixel(iteration, pixel, num_pixels, num_colors):\n",
    "    return int((iteration / (num_colors ** pixel)) % num_colors)"
   ]
  },
  {
   "cell_type": "markdown",
   "id": "1df7a5e6-5d75-414c-98d6-d5c66913b13f",
   "metadata": {},
   "source": [
    "We can test this out by calculating the values of the 6th iteration of our 2x2 example (1010):"
   ]
  },
  {
   "cell_type": "code",
   "execution_count": 63,
   "id": "38d75dbe-b9dd-40a5-b312-8915f047eb9f",
   "metadata": {},
   "outputs": [
    {
     "data": {
      "text/plain": [
       "1"
      ]
     },
     "execution_count": 63,
     "metadata": {},
     "output_type": "execute_result"
    }
   ],
   "source": [
    "get_pixel(5, 0, 2*2, 2)"
   ]
  },
  {
   "cell_type": "code",
   "execution_count": 64,
   "id": "170dccd4-26e2-4c98-9e06-e9251246112f",
   "metadata": {},
   "outputs": [
    {
     "data": {
      "text/plain": [
       "0"
      ]
     },
     "execution_count": 64,
     "metadata": {},
     "output_type": "execute_result"
    }
   ],
   "source": [
    "get_pixel(5, 1, 2*2, 2)"
   ]
  },
  {
   "cell_type": "code",
   "execution_count": 65,
   "id": "0492ea68-18d1-4a6f-b73f-b067060cf257",
   "metadata": {},
   "outputs": [
    {
     "data": {
      "text/plain": [
       "1"
      ]
     },
     "execution_count": 65,
     "metadata": {},
     "output_type": "execute_result"
    }
   ],
   "source": [
    "get_pixel(5, 2, 2*2, 2)"
   ]
  },
  {
   "cell_type": "code",
   "execution_count": 66,
   "id": "a1f642f7-42a8-4063-94eb-a6a491435534",
   "metadata": {},
   "outputs": [
    {
     "data": {
      "text/plain": [
       "0"
      ]
     },
     "execution_count": 66,
     "metadata": {},
     "output_type": "execute_result"
    }
   ],
   "source": [
    "get_pixel(5, 3, 2*2, 2)"
   ]
  },
  {
   "cell_type": "markdown",
   "id": "30da023b-b65a-4366-af23-d854e04015a9",
   "metadata": {
    "tags": []
   },
   "source": [
    "# Generating image data"
   ]
  },
  {
   "cell_type": "markdown",
   "id": "45824b66-b58d-4005-be04-ce50d5c41fc8",
   "metadata": {},
   "source": [
    "It's pretty trivial now to create a function to iterate through all the pixels of a given iteration and return their values:"
   ]
  },
  {
   "cell_type": "code",
   "execution_count": 67,
   "id": "16ac2110-fd73-4ef5-a227-a4fb37be505d",
   "metadata": {},
   "outputs": [],
   "source": [
    "def get_image(iteration, num_pixels, num_colors):\n",
    "    return list(map(lambda i: get_pixel(iteration, i, num_pixels, num_colors), range(0, num_pixels)))"
   ]
  },
  {
   "cell_type": "markdown",
   "id": "e647e1e6-5d2a-4aae-ba25-4152fc39e67a",
   "metadata": {},
   "source": [
    "We can test these out by grabbing some permutations from our 2x2 example image for comparison:"
   ]
  },
  {
   "cell_type": "code",
   "execution_count": 68,
   "id": "7fbd31ba-1556-4196-a9f6-4637c2f52a80",
   "metadata": {},
   "outputs": [
    {
     "data": {
      "text/plain": [
       "[0, 0, 0, 0]"
      ]
     },
     "execution_count": 68,
     "metadata": {},
     "output_type": "execute_result"
    }
   ],
   "source": [
    "# Get the first image\n",
    "get_image(0, 2*2, 2)"
   ]
  },
  {
   "cell_type": "code",
   "execution_count": 69,
   "id": "8f7a1f98-ab94-4f3f-82e9-d882d0a34bf3",
   "metadata": {},
   "outputs": [
    {
     "data": {
      "text/plain": [
       "[1, 0, 0, 0]"
      ]
     },
     "execution_count": 69,
     "metadata": {},
     "output_type": "execute_result"
    }
   ],
   "source": [
    "# Get the second image\n",
    "get_image(1, 2*2, 2)"
   ]
  },
  {
   "cell_type": "code",
   "execution_count": 70,
   "id": "eabc94e9-a42f-4698-ad8a-029d4ed1401c",
   "metadata": {},
   "outputs": [
    {
     "data": {
      "text/plain": [
       "[0, 1, 0, 0]"
      ]
     },
     "execution_count": 70,
     "metadata": {},
     "output_type": "execute_result"
    }
   ],
   "source": [
    "# Get the third image\n",
    "get_image(2, 2*2, 2)"
   ]
  },
  {
   "cell_type": "markdown",
   "id": "2bd62d12-eead-4b8e-8f89-41575b6fd41f",
   "metadata": {},
   "source": [
    "# Generating an image"
   ]
  },
  {
   "cell_type": "markdown",
   "id": "51431add-a65b-4f1e-9d98-a6cc10116204",
   "metadata": {},
   "source": [
    "Creating a function to create an image is pretty simple:"
   ]
  },
  {
   "cell_type": "code",
   "execution_count": 132,
   "id": "d671ba87-f5c2-49cf-9c6e-902ef66f6c83",
   "metadata": {},
   "outputs": [],
   "source": [
    "from PIL import Image\n",
    "\n",
    "def generate_image(data, image_size, num_colors):\n",
    "    image = Image.new('RGB', (image_size, image_size))\n",
    "    \n",
    "    for y in range(0, image_size):\n",
    "        for x in range(0, image_size):\n",
    "            color = int((255 / num_colors) * data[y * image_size + x])\n",
    "            image.putpixel((x, y), (color, color, color))\n",
    "    \n",
    "    return image"
   ]
  },
  {
   "cell_type": "markdown",
   "id": "16adb1ed-be67-44ca-9b5c-92ddc2f7abb6",
   "metadata": {},
   "source": [
    "# Putting it all together"
   ]
  },
  {
   "cell_type": "markdown",
   "id": "997df8a0-f7dd-4899-a05b-98394e073f04",
   "metadata": {},
   "source": [
    "Now we've got all the parts, we can try generating an _actual_ image:"
   ]
  },
  {
   "cell_type": "code",
   "execution_count": 134,
   "id": "1a666155-a6d8-4ef7-84aa-32fb33ca748b",
   "metadata": {},
   "outputs": [
    {
     "data": {
      "image/png": "[encoded data removed]",
      "text/plain": [
       "<PIL.Image.Image image mode=RGB size=16x16>"
      ]
     },
     "execution_count": 134,
     "metadata": {},
     "output_type": "execute_result"
    }
   ],
   "source": [
    "from random import random\n",
    "\n",
    "image_size = 16\n",
    "num_colors = 2\n",
    "\n",
    "# Get the number of permutations\n",
    "permutations = num_permutations(num_colors, image_size * image_size)\n",
    "\n",
    "# Get a random iteration index\n",
    "iteration = int((permutations / 1) * random())\n",
    "\n",
    "# Get the data for that permutation\n",
    "data = get_image(iteration, image_size * image_size, num_colors)\n",
    "\n",
    "# Generate an image\n",
    "generate_image(data, image_size, num_colors)"
   ]
  },
  {
   "cell_type": "markdown",
   "id": "3e11f31e-649d-464a-baaa-092cfe2ed7bf",
   "metadata": {},
   "source": [
    "# The problem"
   ]
  },
  {
   "cell_type": "markdown",
   "id": "e1beacfa-668d-4d1f-b8e1-3bf01feacacd",
   "metadata": {},
   "source": [
    "Things start to go awry as you increase the size and color depth of the image. A tiny image of just 32x32 pixels and 8 colors has an incredible number of permutations:"
   ]
  },
  {
   "cell_type": "code",
   "execution_count": 75,
   "id": "5a46fb3c-2f18-4778-a14c-43164abcf44e",
   "metadata": {},
   "outputs": [
    {
     "data": {
      "text/plain": [
       "1208925819614629174706176"
      ]
     },
     "execution_count": 75,
     "metadata": {},
     "output_type": "execute_result"
    }
   ],
   "source": [
    "(32 * 32) ** 8"
   ]
  },
  {
   "cell_type": "markdown",
   "id": "b60a39d8-f42b-4fab-bcee-76f67c0a6ae8",
   "metadata": {},
   "source": [
    "And if we stretch for something _barely_ usable, this happens:"
   ]
  },
  {
   "cell_type": "code",
   "execution_count": 76,
   "id": "e40994fc-63e8-466b-a7e2-4bf6b7183687",
   "metadata": {
    "tags": []
   },
   "outputs": [
    {
     "data": {
      "text/plain": [
       "5192296858534827628530496329220096"
      ]
     },
     "execution_count": 76,
     "metadata": {},
     "output_type": "execute_result"
    }
   ],
   "source": [
    "(128 * 128) ** 8"
   ]
  },
  {
   "cell_type": "markdown",
   "id": "91433e64-0be2-466c-8afa-37c4ac926687",
   "metadata": {},
   "source": [
    "But really, our bare minimum is more this:"
   ]
  },
  {
   "cell_type": "code",
   "execution_count": 79,
   "id": "4fe2cba9-993b-43f7-88ff-c2b6db5ff438",
   "metadata": {},
   "outputs": [
    {
     "data": {
      "text/plain": [
       "1044388881413152506691752710716624382579964249047383780384233483283953907971557456848826811934997558340890106714439262837987573438185793607263236087851365277945956976543709998340361590134383718314428070011855946226376318839397712745672334684344586617496807908705803704071284048740118609114467977783598029006686938976881787785946905630190260940599579453432823469303026696443059025015972399867714215541693835559885291486318237914434496734087811872639496475100189041349008417061675093668333850551032972088269550769983616369411933015213796825837188091833656751221318492846368125550225998300412344784862595674492194617023806505913245610825731835380087608622102834270197698202313169017678006675195485079921636419370285375124784014907159135459982790513399611551794271106831134090584272884279791554849782954323534517065223269061394905987693002122963395687782878948440616007412945674919823050571642377154816321380631045902916136926708342856440730447899971901781465763473223850267253059899795996090799469201774624817718449867455659250178329070473119433165550807568221846571746373296884912819520317457002440926616910874148385078411929804522981857338977648103126085903001302413467189726673216491511131602920781738033436090243804708340403154190336"
      ]
     },
     "execution_count": 79,
     "metadata": {},
     "output_type": "execute_result"
    }
   ],
   "source": [
    "(256 * 256) ** 256"
   ]
  },
  {
   "cell_type": "markdown",
   "id": "1bd50a74-6aa6-4270-bde2-67a1e6b2dc19",
   "metadata": {},
   "source": [
    "And ideally, we'd be able to do this:"
   ]
  },
  {
   "cell_type": "code",
   "execution_count": 82,
   "id": "630315e8-8a0a-4d68-96d5-7aab46f91425",
   "metadata": {},
   "outputs": [
    {
     "data": {
      "text/plain": [
       "196083043526689432215653901508390955087187586038211833508572705525327782583653897313203602834138687789006359056463866121827295814353398917246917058263529399194651711670419172972950101888756152856197906119967911207419657828835997045123149330953138221382551826519295780148184830257628047540965035233610795226453345405219910376637917515019627445104233002103505877419229870321413438916495306644844403314648330162975599838641983346566196928395633881358885152586414880905288190861933085649543437392668396385315386148827675870309205530918987024321892964715479723356659563955917692507818555791102527436188657152984768015015658043976521716974644725768202868002615722161552077691074830207914237787332385516151134154538815535640496908262998162372524787084456685714835251007293253060436250536153197542066453375358401783751185549803487591842088407402527701756138299798951766498959720103649353394261185878136204197513049108878859694319168678735024527020523913262334425005295419943929052656383498407441865750679213956398530438609899911974017861183066709641321409150787240447894807203270653842497297434247551469666966236376967031752250430132159531403018652606047048375598491835193133807985550611985991905715631532441625371569450645541657687544396461804443735000161517639207082547335606190704428935924972451700435493712461874682685264181439542282285939121329009418742617318609486814686070610655313656461941003669097141508072517607423301232645666933983170727399579701766284405882787335569141996562436460195267647275147149205610463929384078839689426103532822156526714375623697059664372632794012557279683693447972246065202562591657030121882456014169969325909542093386657044847559640179838575803672288394447502254105320114007759391823279938400690259670954136473077693155948583914816581526665449221211718237274906074017461585853047878553830452051914374517751694586785441994787047387895016363601426328182767240481298022032079354375673807839641864351639267885346170283260611179193676044848449213569169235232474492654245111050984788368147475269923867518064252521842074891287287928249436896550748078005158531126601392421972742662290619526803274383286718151637845138869717276027298889215237957326741862885081679243417194599489628073823668475025168146953058009451279152873194946589197118638000693578907347372610705403707084920112661132266973833534380376413611274548874519742546198660435368911641857486389996770959902819086230787987669776355799704925893828485074686876227218608864553653265717180761954414100115661084883983062285289285346636378604214730100480657010819951184685497866500762087892065897068998925731115031743362283408922762884308028995976800393727184116644770851546262263121276281051781132606813765311962734045305226205027320910150499078954883386617195179985788372478254401447804530942017536"
      ]
     },
     "execution_count": 82,
     "metadata": {},
     "output_type": "execute_result"
    }
   ],
   "source": [
    "(512 * 512) ** 512"
   ]
  },
  {
   "cell_type": "markdown",
   "id": "0517fe31-b44c-4b2b-a5b2-31eed04ccfd5",
   "metadata": {},
   "source": [
    "# The goal"
   ]
  },
  {
   "cell_type": "markdown",
   "id": "dd662602-fa29-4823-a585-abb765b1916a",
   "metadata": {},
   "source": [
    "Ideally we want to be able to generate images of _at least_ 256x256 pixels with 256 colors, but preferably as high as 512x512 with 512 colors. I'll let you do the mathematics on the number of permutations. Try changing some of the variables in the example image generation code above and see what happens."
   ]
  },
  {
   "cell_type": "markdown",
   "id": "3c257a61-67fb-43bf-a8ee-e1a269c2497a",
   "metadata": {},
   "source": [
    "The puzzle is simply to devise a way to allow _all_ permutations to be referenced and generated by an index."
   ]
  }
 ],
 "metadata": {
  "kernelspec": {
   "display_name": "Python 3 (ipykernel)",
   "language": "python",
   "name": "python3"
  },
  "language_info": {
   "codemirror_mode": {
    "name": "ipython",
    "version": 3
   },
   "file_extension": ".py",
   "mimetype": "text/x-python",
   "name": "python",
   "nbconvert_exporter": "python",
   "pygments_lexer": "ipython3",
   "version": "3.8.13"
  },
  "toc-autonumbering": false,
  "toc-showcode": false,
  "toc-showmarkdowntxt": false,
  "toc-showtags": false
 },
 "nbformat": 4,
 "nbformat_minor": 5
}
