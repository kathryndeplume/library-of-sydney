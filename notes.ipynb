{
 "cells": [
  {
   "cell_type": "markdown",
   "id": "6d5f537c-db23-4932-893b-9bfaee1efc59",
   "metadata": {
    "tags": []
   },
   "source": [
    "# Introduction"
   ]
  },
  {
   "cell_type": "markdown",
   "id": "69b1a1fe-ff79-438b-92a0-a58e143a14ec",
   "metadata": {},
   "source": [
    "If you were to generate an image for every possible arrangement of pixels, then you would have every single image that has ever been created, _or ever will_.\n",
    "\n",
    "Could you dig out images from the past?\n",
    "\n",
    "_From the future?_\n",
    "\n",
    "Could you find people who never existed?\n",
    "\n",
    "_Could you find yourself?_"
   ]
  },
  {
   "cell_type": "markdown",
   "id": "1d0c0104-c7c0-4186-924f-80371caa5cd3",
   "metadata": {},
   "source": [
    "# A working model"
   ]
  },
  {
   "cell_type": "markdown",
   "id": "4eed74c9-3c2f-4029-aef8-95d5f604df89",
   "metadata": {},
   "source": [
    "In this model, each pixel contains a single integer value which denotes its color.\n",
    "\n",
    "For example, an 2x2 image with 2 colors may look like this:\n",
    "\n",
    "    00\n",
    "    00\n",
    "\n",
    "There are 16 possible permutations for this image, the other 15 are:\n",
    "\n",
    "    10  01  11  00  10  01  11  00  10  01  11  00  10  01  11\n",
    "    00  00  00  10  10  10  10  01  01  01  01  11  11  11  11\n",
    "\n",
    "The sequence is created logically and sequentially by incrementing each pixel through all of its color values and then resetting it to zero and incrementing its next neighbour, until all pixels are equal to the maximum color value, as demonstrated by the following code:"
   ]
  },
  {
   "cell_type": "code",
   "execution_count": 1,
   "id": "1b5d4edd-c824-4278-8885-64eb4b89a571",
   "metadata": {},
   "outputs": [
    {
     "name": "stdout",
     "output_type": "stream",
     "text": [
      "0  = [0, 0, 0, 0]\n",
      "1  = [1, 0, 0, 0]\n",
      "2  = [0, 1, 0, 0]\n",
      "3  = [1, 1, 0, 0]\n",
      "4  = [0, 0, 1, 0]\n",
      "5  = [1, 0, 1, 0]\n",
      "6  = [0, 1, 1, 0]\n",
      "7  = [1, 1, 1, 0]\n",
      "8  = [0, 0, 0, 1]\n",
      "9  = [1, 0, 0, 1]\n",
      "10 = [0, 1, 0, 1]\n",
      "11 = [1, 1, 0, 1]\n",
      "12 = [0, 0, 1, 1]\n",
      "13 = [1, 0, 1, 1]\n",
      "14 = [0, 1, 1, 1]\n",
      "15 = [1, 1, 1, 1]\n"
     ]
    }
   ],
   "source": [
    "image = [0] * 2*2\n",
    "index = 0\n",
    "\n",
    "print(\"{:<2} = {}\".format(index, image))\n",
    "\n",
    "while image[-1] != 1 or image.count(image[0]) != len(image):\n",
    "    index += 1\n",
    "\n",
    "    image[0] += 1\n",
    "\n",
    "    for i in range(0, len(image)):\n",
    "        if image[i] > 1:\n",
    "            image[i] = 0\n",
    "\n",
    "            if i < len(image):\n",
    "                image[i+1] += 1\n",
    "\n",
    "    print(\"{:<2} = {}\".format(index, image))"
   ]
  },
  {
   "cell_type": "markdown",
   "id": "71a6bc0d-e9f5-4fbc-81ff-d66b09e84aef",
   "metadata": {
    "tags": [
     "output_scroll"
    ]
   },
   "source": [
    "# Calculating permutations"
   ]
  },
  {
   "cell_type": "markdown",
   "id": "97b5fa71-bb81-4af6-8c15-796a122f611a",
   "metadata": {},
   "source": [
    "Where $c$ is the maximum number of colors and $p$ is the total number of pixels, $p$ pixels can have $c$ possible values that can be combined with each value of each other pixel in the image, or $c^{p}$."
   ]
  },
  {
   "cell_type": "code",
   "execution_count": 2,
   "id": "3eec817c-685c-467a-9f41-8a38352cf1f3",
   "metadata": {},
   "outputs": [],
   "source": [
    "def num_permutations(pixels, colors):\n",
    "    return colors ** pixels"
   ]
  },
  {
   "cell_type": "markdown",
   "id": "6090507b-9018-473d-af05-1ebf809288dd",
   "metadata": {},
   "source": [
    "We can test this function out with a few examples:"
   ]
  },
  {
   "cell_type": "code",
   "execution_count": 3,
   "id": "c2c5c546-2dbe-482a-9ce4-e9b1140a36fb",
   "metadata": {},
   "outputs": [
    {
     "name": "stdout",
     "output_type": "stream",
     "text": [
      "1x1@2 = 2\n",
      "2x2@2 = 16\n",
      "3x3@2 = 512\n",
      "4x4@2 = 65536\n"
     ]
    }
   ],
   "source": [
    "for i in range(1, 5):\n",
    "    print(\"{}x{}@2 = {}\".format(i, i, num_permutations(i*i, 2)))"
   ]
  },
  {
   "cell_type": "markdown",
   "id": "eff14657-96e2-4f96-a7b5-449be7e8dac0",
   "metadata": {},
   "source": [
    "# Generating pixel data"
   ]
  },
  {
   "cell_type": "markdown",
   "id": "46c93fa3-c752-417e-bac7-9447fca90542",
   "metadata": {},
   "source": [
    "If you look at the sequence of permutations above you'll notice that the first pixel increments every iteration, but the second pixel increments only when the first pixel has completed its cycle and reset to zero and so it takes two iterations to change value. The third pixel increments only when the _second_ pixel has completed its cycle and reset to zero and so it takes _four_ iterations to change value.\n",
    "\n",
    "So where $i$ is the index position of a given pixel and $c$ is the maximum number of colors, the rate at which a pixel increments is determined by $c^{i}$."
   ]
  },
  {
   "cell_type": "code",
   "execution_count": 4,
   "id": "b3d55960-9142-4ba4-b5ba-78240e091e72",
   "metadata": {},
   "outputs": [
    {
     "name": "stdout",
     "output_type": "stream",
     "text": [
      "0 = 1\n",
      "1 = 2\n",
      "2 = 4\n",
      "3 = 8\n"
     ]
    }
   ],
   "source": [
    "for i in range(0, 4):\n",
    "    print(\"{} = {}\".format(i, 2**i))"
   ]
  },
  {
   "cell_type": "markdown",
   "id": "01f9cec2-413f-4aab-b8d8-a58aacd01f99",
   "metadata": {},
   "source": [
    "So where $p$ is the index of the iteration in the sequence and $c$ is the maximum number of colors, the value of the pixel at index position $i$ can be determined by the integer value of $int(\\frac{p}{c^{i}}) mod c$."
   ]
  },
  {
   "cell_type": "code",
   "execution_count": 5,
   "id": "29e64fdd-5f73-4069-a6cc-8d70e96ca3fc",
   "metadata": {
    "tags": []
   },
   "outputs": [],
   "source": [
    "def get_pixel_value(iteration, pixel, colors):\n",
    "    return int(iteration / (colors ** pixel)) % colors"
   ]
  },
  {
   "cell_type": "markdown",
   "id": "1df7a5e6-5d75-414c-98d6-d5c66913b13f",
   "metadata": {},
   "source": [
    "We can test this out by calculating the values of the 6th iteration of our 2x2 example (1010):"
   ]
  },
  {
   "cell_type": "code",
   "execution_count": 6,
   "id": "3b2f0659-0504-41bb-b713-3d8816e262eb",
   "metadata": {},
   "outputs": [
    {
     "data": {
      "text/plain": [
       "1"
      ]
     },
     "metadata": {},
     "output_type": "display_data"
    },
    {
     "data": {
      "text/plain": [
       "0"
      ]
     },
     "metadata": {},
     "output_type": "display_data"
    },
    {
     "data": {
      "text/plain": [
       "1"
      ]
     },
     "metadata": {},
     "output_type": "display_data"
    },
    {
     "data": {
      "text/plain": [
       "0"
      ]
     },
     "metadata": {},
     "output_type": "display_data"
    }
   ],
   "source": [
    "for i in range(0, 4):\n",
    "    display(get_pixel_value(5, i, 2))"
   ]
  },
  {
   "cell_type": "markdown",
   "id": "30da023b-b65a-4366-af23-d854e04015a9",
   "metadata": {
    "tags": []
   },
   "source": [
    "# Generating image data"
   ]
  },
  {
   "cell_type": "markdown",
   "id": "45824b66-b58d-4005-be04-ce50d5c41fc8",
   "metadata": {},
   "source": [
    "It's pretty trivial now to create a function to iterate through all the pixels of a given iteration and return their values:"
   ]
  },
  {
   "cell_type": "code",
   "execution_count": 7,
   "id": "16ac2110-fd73-4ef5-a227-a4fb37be505d",
   "metadata": {},
   "outputs": [],
   "source": [
    "def get_image_values(iteration, pixels, colors):\n",
    "    return list(map(lambda i: get_pixel_value(iteration, i, colors), range(0, pixels)))"
   ]
  },
  {
   "cell_type": "markdown",
   "id": "e647e1e6-5d2a-4aae-ba25-4152fc39e67a",
   "metadata": {},
   "source": [
    "We can test these out by grabbing the permutations from our 2x2 example image for comparison:"
   ]
  },
  {
   "cell_type": "code",
   "execution_count": 8,
   "id": "5ad7e7e8-3db9-4c80-84f1-23156016bc0c",
   "metadata": {},
   "outputs": [
    {
     "data": {
      "text/plain": [
       "[0, 0, 0, 0]"
      ]
     },
     "metadata": {},
     "output_type": "display_data"
    },
    {
     "data": {
      "text/plain": [
       "[1, 0, 0, 0]"
      ]
     },
     "metadata": {},
     "output_type": "display_data"
    },
    {
     "data": {
      "text/plain": [
       "[0, 1, 0, 0]"
      ]
     },
     "metadata": {},
     "output_type": "display_data"
    },
    {
     "data": {
      "text/plain": [
       "[1, 1, 0, 0]"
      ]
     },
     "metadata": {},
     "output_type": "display_data"
    },
    {
     "data": {
      "text/plain": [
       "[0, 0, 1, 0]"
      ]
     },
     "metadata": {},
     "output_type": "display_data"
    },
    {
     "data": {
      "text/plain": [
       "[1, 0, 1, 0]"
      ]
     },
     "metadata": {},
     "output_type": "display_data"
    },
    {
     "data": {
      "text/plain": [
       "[0, 1, 1, 0]"
      ]
     },
     "metadata": {},
     "output_type": "display_data"
    },
    {
     "data": {
      "text/plain": [
       "[1, 1, 1, 0]"
      ]
     },
     "metadata": {},
     "output_type": "display_data"
    },
    {
     "data": {
      "text/plain": [
       "[0, 0, 0, 1]"
      ]
     },
     "metadata": {},
     "output_type": "display_data"
    },
    {
     "data": {
      "text/plain": [
       "[1, 0, 0, 1]"
      ]
     },
     "metadata": {},
     "output_type": "display_data"
    },
    {
     "data": {
      "text/plain": [
       "[0, 1, 0, 1]"
      ]
     },
     "metadata": {},
     "output_type": "display_data"
    },
    {
     "data": {
      "text/plain": [
       "[1, 1, 0, 1]"
      ]
     },
     "metadata": {},
     "output_type": "display_data"
    },
    {
     "data": {
      "text/plain": [
       "[0, 0, 1, 1]"
      ]
     },
     "metadata": {},
     "output_type": "display_data"
    },
    {
     "data": {
      "text/plain": [
       "[1, 0, 1, 1]"
      ]
     },
     "metadata": {},
     "output_type": "display_data"
    },
    {
     "data": {
      "text/plain": [
       "[0, 1, 1, 1]"
      ]
     },
     "metadata": {},
     "output_type": "display_data"
    },
    {
     "data": {
      "text/plain": [
       "[1, 1, 1, 1]"
      ]
     },
     "metadata": {},
     "output_type": "display_data"
    }
   ],
   "source": [
    "for i in range(0, 16):\n",
    "    display(get_image_values(i, 2*2, 2))"
   ]
  },
  {
   "cell_type": "markdown",
   "id": "2bd62d12-eead-4b8e-8f89-41575b6fd41f",
   "metadata": {},
   "source": [
    "# Generating an image"
   ]
  },
  {
   "cell_type": "markdown",
   "id": "51431add-a65b-4f1e-9d98-a6cc10116204",
   "metadata": {},
   "source": [
    "Creating a function to create an image is pretty simple:"
   ]
  },
  {
   "cell_type": "code",
   "execution_count": 9,
   "id": "d671ba87-f5c2-49cf-9c6e-902ef66f6c83",
   "metadata": {},
   "outputs": [],
   "source": [
    "from PIL import Image\n",
    "\n",
    "def generate_image_from_values(values, size, colors):\n",
    "    image = Image.new('RGB', (size, size))\n",
    "    \n",
    "    for y in range(0, size):\n",
    "        for x in range(0, size):\n",
    "            color = int((255 / colors) * values[y * size + x])\n",
    "            image.putpixel((x, y), (color, color, color))\n",
    "    \n",
    "    return image"
   ]
  },
  {
   "cell_type": "markdown",
   "id": "16adb1ed-be67-44ca-9b5c-92ddc2f7abb6",
   "metadata": {},
   "source": [
    "# Putting it all together"
   ]
  },
  {
   "cell_type": "markdown",
   "id": "a41b33f0-fa34-4606-9c55-0d343f83be19",
   "metadata": {},
   "source": [
    "Now we've got all the parts, we can create a function to generate an image on demand:"
   ]
  },
  {
   "cell_type": "code",
   "execution_count": 10,
   "id": "e582f4bc-eda5-46b0-bdb9-6ae103ec5fc0",
   "metadata": {},
   "outputs": [],
   "source": [
    "def generate_image(iteration, size, colors):\n",
    "    values = get_image_values(iteration, size * size, colors)\n",
    "    return generate_image_from_values(values, size, colors)"
   ]
  },
  {
   "cell_type": "markdown",
   "id": "997df8a0-f7dd-4899-a05b-98394e073f04",
   "metadata": {},
   "source": [
    "And now we can try generating some _actual_ images for our 2x2 example:"
   ]
  },
  {
   "cell_type": "code",
   "execution_count": 11,
   "id": "5afda323-39e8-40f4-86ea-f6a04da8b60b",
   "metadata": {},
   "outputs": [
    {
     "data": {
      "image/png": "[encoded data removed]",
      "text/plain": [
       "<PIL.Image.Image image mode=RGB size=32x32>"
      ]
     },
     "metadata": {},
     "output_type": "display_data"
    },
    {
     "data": {
      "image/png": "[encoded data removed]",
      "text/plain": [
       "<PIL.Image.Image image mode=RGB size=32x32>"
      ]
     },
     "metadata": {},
     "output_type": "display_data"
    },
    {
     "data": {
      "image/png": "[encoded data removed]",
      "text/plain": [
       "<PIL.Image.Image image mode=RGB size=32x32>"
      ]
     },
     "metadata": {},
     "output_type": "display_data"
    },
    {
     "data": {
      "image/png": "[encoded data removed]",
      "text/plain": [
       "<PIL.Image.Image image mode=RGB size=32x32>"
      ]
     },
     "metadata": {},
     "output_type": "display_data"
    },
    {
     "data": {
      "image/png": "[encoded data removed]",
      "text/plain": [
       "<PIL.Image.Image image mode=RGB size=32x32>"
      ]
     },
     "metadata": {},
     "output_type": "display_data"
    },
    {
     "data": {
      "image/png": "[encoded data removed]",
      "text/plain": [
       "<PIL.Image.Image image mode=RGB size=32x32>"
      ]
     },
     "metadata": {},
     "output_type": "display_data"
    },
    {
     "data": {
      "image/png": "[encoded data removed]",
      "text/plain": [
       "<PIL.Image.Image image mode=RGB size=32x32>"
      ]
     },
     "metadata": {},
     "output_type": "display_data"
    },
    {
     "data": {
      "image/png": "[encoded data removed]",
      "text/plain": [
       "<PIL.Image.Image image mode=RGB size=32x32>"
      ]
     },
     "metadata": {},
     "output_type": "display_data"
    },
    {
     "data": {
      "image/png": "[encoded data removed]",
      "text/plain": [
       "<PIL.Image.Image image mode=RGB size=32x32>"
      ]
     },
     "metadata": {},
     "output_type": "display_data"
    },
    {
     "data": {
      "image/png": "[encoded data removed]",
      "text/plain": [
       "<PIL.Image.Image image mode=RGB size=32x32>"
      ]
     },
     "metadata": {},
     "output_type": "display_data"
    },
    {
     "data": {
      "image/png": "[encoded data removed]",
      "text/plain": [
       "<PIL.Image.Image image mode=RGB size=32x32>"
      ]
     },
     "metadata": {},
     "output_type": "display_data"
    },
    {
     "data": {
      "image/png": "[encoded data removed]",
      "text/plain": [
       "<PIL.Image.Image image mode=RGB size=32x32>"
      ]
     },
     "metadata": {},
     "output_type": "display_data"
    },
    {
     "data": {
      "image/png": "[encoded data removed]",
      "text/plain": [
       "<PIL.Image.Image image mode=RGB size=32x32>"
      ]
     },
     "metadata": {},
     "output_type": "display_data"
    },
    {
     "data": {
      "image/png": "[encoded data removed]",
      "text/plain": [
       "<PIL.Image.Image image mode=RGB size=32x32>"
      ]
     },
     "metadata": {},
     "output_type": "display_data"
    },
    {
     "data": {
      "image/png": "[encoded data removed]",
      "text/plain": [
       "<PIL.Image.Image image mode=RGB size=32x32>"
      ]
     },
     "metadata": {},
     "output_type": "display_data"
    },
    {
     "data": {
      "image/png": "[encoded data removed]",
      "text/plain": [
       "<PIL.Image.Image image mode=RGB size=32x32>"
      ]
     },
     "metadata": {},
     "output_type": "display_data"
    }
   ],
   "source": [
    "for i in range(0, num_permutations(2*2, 2)):\n",
    "    display(generate_image(i, 2, 2).resize((32, 32), 0))"
   ]
  },
  {
   "cell_type": "markdown",
   "id": "c06e69b9-e0f3-4dba-a041-e5bea78a8306",
   "metadata": {},
   "source": [
    "How about we try some random ones:"
   ]
  },
  {
   "cell_type": "code",
   "execution_count": 12,
   "id": "8d6f814e-3b6e-4a35-8eaf-c16e4422c632",
   "metadata": {},
   "outputs": [
    {
     "data": {
      "image/png": "[encoded data removed]",
      "text/plain": [
       "<PIL.Image.Image image mode=RGB size=64x64>"
      ]
     },
     "metadata": {},
     "output_type": "display_data"
    },
    {
     "data": {
      "image/png": "[encoded data removed]",
      "text/plain": [
       "<PIL.Image.Image image mode=RGB size=64x64>"
      ]
     },
     "metadata": {},
     "output_type": "display_data"
    },
    {
     "data": {
      "image/png": "[encoded data removed]",
      "text/plain": [
       "<PIL.Image.Image image mode=RGB size=64x64>"
      ]
     },
     "metadata": {},
     "output_type": "display_data"
    }
   ],
   "source": [
    "import random\n",
    "\n",
    "for i in range(0, 3):\n",
    "    iteration = random.randrange(num_permutations(16*16, 2))\n",
    "    display(generate_image(iteration, 16, 2).resize((64, 64), 0))"
   ]
  },
  {
   "cell_type": "markdown",
   "id": "3e11f31e-649d-464a-baaa-092cfe2ed7bf",
   "metadata": {},
   "source": [
    "# The problem"
   ]
  },
  {
   "cell_type": "markdown",
   "id": "e1beacfa-668d-4d1f-b8e1-3bf01feacacd",
   "metadata": {},
   "source": [
    "Things start to go awry as you increase the size and color depth of the image.\n",
    "\n",
    "A tiny image of just 32x32 pixels and 8 colors has an incredible number of permutations:"
   ]
  },
  {
   "cell_type": "code",
   "execution_count": 13,
   "id": "5a46fb3c-2f18-4778-a14c-43164abcf44e",
   "metadata": {},
   "outputs": [
    {
     "data": {
      "text/plain": [
       "5809605995369958062859502533304574370686975176362895236661486152287203730997110225737336044533118407251326157754980517443990529594540047121662885672187032401032111639706440498844049850989051627200244765807041812394729680540024104827976584369381522292361208779044769892743225751738076979568811309579125511333093243519553784816306381580161860200247492568448150242515304449577187604136428738580990172551573934146255830366405915000869643732053218566832545291107903722831634138599586406690325959725187447169059540805012310209639011750748760017095360734234945757416272994856013308616958529958304677637019181594088528345061285863898271763457294883546638879554311615446446330199254382340016292057090751175533888161918987295591531536698701292267685465517437915790823154844634780260102891718032495396075041899485513811126977307478969074857043710716150121315922024556759241239013152919710956468406379442914941614357107914462567329693696"
      ]
     },
     "execution_count": 13,
     "metadata": {},
     "output_type": "execute_result"
    }
   ],
   "source": [
    "8 ** (32 * 32)"
   ]
  },
  {
   "cell_type": "markdown",
   "id": "b60a39d8-f42b-4fab-bcee-76f67c0a6ae8",
   "metadata": {},
   "source": [
    "Even at 128x128 with 8 colors the number of permutations is astronomical:"
   ]
  },
  {
   "cell_type": "code",
   "execution_count": 14,
   "id": "e40994fc-63e8-466b-a7e2-4bf6b7183687",
   "metadata": {
    "tags": []
   },
   "outputs": [
    {
     "data": {
      "text/plain": [
       "1684018569085003115856525219531605142436233159781333642723123981705640965893292088497933711583713654956392080910520825204018621604016583770934377618636093229827983321247312546088197199743332668693742272500725383380333469433835886329196477176509366829365320004499004600332780924584477578833244223264809967604842290847674576932551118769294760354599337350582841569894276953418034214037457233120386881993756426268487272504201500256463469830846893566404359729135104794004174130102638547949413172962811401997799288183975603075063296368571801148022520861760772759049002307626223673655900610674797943971539382976399794194509017833009289892816457747952338368756515175832524982184444364607239645077211172916685317053646070275753848921674661243612344829297962359011326833261578808158439219609897555062601124827741353243480799197790383361811958008693937373728956428066044436640481995468718843700243001474316060553164633666694872657926307631362994147922142791937107754849131759440166613654952023006626916204185080266156378551463746438050211839745572145486501146557372860430712525715461570795623015664904852635256314780100891622371547410153592796748234340924492135553514552006179387315012809650829719621927138267519905926862132942240542412820388161925273701285182143649663963392674538544177154613765268723102782536351134848965400060634600492646572648746255617097179367598507489162621113467617959416171494397143722952140698023097234243984520967191302541580461363981360349288658960509282594962422770119571730794732721005124544963777328418958809442905095590489076920598786876196307061024657440381123588727657691525397642177964877758484332800504753757567098315840601252357129266022807226136528028616013680761305702638706113979563677306657329756409345461170175545384787520120054451490948548935506980019653891962276608300666072909300870060695370318360275505503022111317186473080107056664386520962966111572909609210024908628407244602488289791721007516579754808218086031509530114868277790509652337110604393959006663766508119489945616683855855834881837726873740947484923750866626724935197257491216461812573047979522073117917537812852326913200522332682387305100291860798032242810426413677013595457743494910642610292172735531713788312768298665880172463516811539703488443948090088252830735671429812344018004448287587475165159641053643230330286071362245540534893124735831887085518006311948269959192230415959083690481326415243885525372659995866414482469214706990937472144998074037945312152691362907711333052085484637924538899175025980306368947100882439251337995522144097508523831440928294765069913888197885030431241130941989130392308141570006832700227953185101192315363519447305009573408911824083615279825048079248186132262447850066099194579052969061017608463123866059593238718019777057777566887233877820696049465500437146116190268887114232795834771693374275695125951023348589950730473227156061316751484877626706061673879156523985667202356056232383919434567814893619362503540343128800886320665860249241461668133800564955324957137005615350252760470502954906412457705956645554333708178645508472418218242505261920639895266868449653908570355495535224789928752087886339897304538082628451697215944489044002150423471373348865259487459940607160287688092565093267072888857438511359357571164921558130238891398903128369102880521524222741829841683116846975625483388205909563871810045078309170412895518931230097466220039713617210736124244387238440986891055273429239491255321828042047468581349865838158246411143968405977111331383924904326207378505142451211539169109250824650560379449980444637360743341092581571417554574621254411281846179060065505073772473378253775028918276573614758605028388073701562304123866829290511442436691410238624221680444830310962111834795667194806683538894448474185805856459542507626655344242886158451768368132897489364169553655970868695818489343108345692947737383539146778563073846728594736185421589716644860184953878639001259918982960518834197014117143080199047938611925587667328549900239095569288858302862110734816261783514199185722605649618460939122019479261444716762277976369819225042681866166473378760827907684070571572849885284769394778093446857533910732449061607984194367326309748726327701975381480180002874654190492339803167031297030050058092579731818238462822921676457250367947473662493916656564565784252224152402737160525848188062089934883469866678511077415913780762812175997173510214289812016597526830108835766769530532612430831708736887668192838424389771221400489343776126122684553979275702217073095234271861259577896222663278138006874984290524082531170112171371402197165589765223675695611129873245864057928283709819004475540300984468988848610437661160439319281817997130241400877607617668192642994463099083324041702558511454896631695137861005623718474984546886050998965564930868407152916759599988094079410974685136395698916298045358251935627859533676326447622694119899921964801623858555821700186166911527796767837713613103517465964034577040610480118168773265531829027102986467711886507375262115683128589873085374179744628201312326071852448097077752858039315300588299560563217052473772445113582294678017160204562226693052865766096093757870825711615115389299811895197360115298810097732420273125890189574220097531879039299327483783230515979430437117334525813905338540967418811942927388166210714921645823689219701181938463143891369553720940684545146450159392947444436239425516908037711085805787820077188265879445564577621832661912273969402853708133439559387705017417703667758201048534830773527013450466582407459365077609076692717906421373070842648686553034035060953068405826529704435650389521830666271299272426802285585281305889841247409076551316564954029169582912225611709619893534206783825492435703578327074144888020336750748771511526669389908649663378018294036018112041261234129572202390765400211099900623562902492172628931213904004225297971133987663330333254715175403989963860664054457698918978570865691532365020834522995713485517348900147138643810394271972420517273805288581453079442171747837426815095841083695542485916206805820161146290038633712942576575178720877960869474911044471174826371146060253979638900860227433071752440832694748484747137879201869525306438057448899784293842369278425004282796571200285853919958721697095243696253893167150811949651975868273736451908635437322421704261495754270714747671723538425538550012629795053936806130988679584730874078042669504686763920267011417253215081945886393391236566573891981869281268298417658871952656172876565765888058592927950665811545520615664105826020594647153569068462273106109119787630444900981587100808659166817394607153542039280660877210590160423087513353987849895940843996914870696134946451921727943119850171062746933437890418156628717774905533615422478835814066170765421011652514378111327874834118189857568923147432659127137965012992894653582976384838478315553769724763076991362602814163164807298821490556617385261938252467036402297130601178384742237221518530223300152147734764928009494353039024534061451453018450905218446117376055774024844710371823976917553544772384523743405983317386546035296947159992764172627732400254165624267421983092370604731220969257050833334896338944657044661032992886895372913139643080961059909405216652988671222627392916478208961646855677210874758886710310714099971359774370201838909219905306852896298002976561700956573011061218280354597598771698400391277251827548587962745428096341053018623184025265117650729986721286760636748822224306024467205391069701192132776496887690902340499184734213261977673594707774483512817077535607562229947739535792080812923800593224493234282420708763819366301647547285551599745765706795091045671711238831103068388910338933583737481068986938654307641373896549634763899425487906737755321379674588070660114768490901587860863232132188411839511441757561842616299517082149054813640108008346703299871547724955916782212603804206531264955209800186532460164568482424110514282632173656677368191605373011194572421914706809790067375339362537758378873339468754003256685510508627779728408405229543780302261807869713572983334880391189524228678811306281616621639720973480038786505999451864564197217295041058534918920324720148940342418649841870088827171791870165802241807409196983127876563564535333225012209356498632896684438322072044943048672810779255555206927889819156816283880433705250811934336832288638323026555272867769491580882138539419757475603382702282357064793253057549992121749460725169872878326513680138387469762755460875180763269394854246070760952726610074050591512194802300532912725729754596255426385217939713450990722350289496741871967951287339312158238448771961045609675711653789456794080404834917778233061595748859544939889541535363909617596157920316511332096498330250720588204908154839966950261625032156756360839686132876344901601168353426138732518236731442381037020349588061365445263835242242330083014221690283311984048201333033455731173244334188242359676709919476520504417325500618775370179941807155389944783026324540852543601615797624020086788757183855721783258776023082074113348070718671674851238568268721405416915449137392770679131899266557935537149935142051801333680056159687136608106194753328828167607082448037130926409687436323612045033215742455219903754946957895824507661958067479939731454470399254523123052810683185096438624120227850416007974662599204558122157863071945501733461228790567085524906186195196281359918611619591698948093919292667462691684257510537096611830336419905994379883417505355356193363312485474824268318762334125125451457864374237132836409278618884303962603219928909806552152544238718425901782607710596525644695209032425194739368324315590407411207017967828919151145196513788796650635708233105089809348618784711547593290907435132190473745685900299482145034873354197163901132927428827109117350274467136584561915280527474209260730407020986537134731094383006117752497879069561625659201147422343417989946312708959553636547368943968156206133469680387505957768691036000095888780930518873325600035630968885441887411562194613943168710338338945850989669675475538376498439238474754134860685158986273548389547301206827636609634744483320064770042624115446952448039430759797648987254532914886643377345745828042433087779853301059221794056377566339708212530858621913219880778896525852336792767434354491105848662486565223128635630110826398385235317768431696483183731542865659545603914394997650582396230216172622059492361748686282824982734309474672950183813837980207096710622882729309271344113778476823971558035944062807204407032802700023434900407880291506625761130661234536683935223379342708533717172440321195925552407469986894270373859866193542966620275690463377101562622223067309582388685308028963113996025160953725843953077227108880405320309037760288777962061087515732305592137066888546176606200578837022644880508959523010372724452983948927217595678584748054225214379972860681328816111971434739691780545688990411125603495167718660803179801391543571874657071138562134029018039171643404457872764469524465108692980225988595373629326593860676311180955041539680572857583630792330594025681853529036676526335713457307103697933067005041353308384071560751251170297563335067611040260704484486688592646730712212386175127687665082616817400822633885098153094938343505332475934620788454032304616097043640934819974817197613526135133617321843142775741253287829644279932537268736288287941180158583913884000087935837082474264599097935869218230252957918727536683348944560627000180508642850413951058466583997743962196980102787810625026032689525498550602855152183909444466830251743488298679488584321285428828015270706298201519727397634154956439301437612500886599088764195230576972831371757982136471306852393333059615381821511137962104756166320763714564708617690705551919219865784400594985707127443730461266652488718829088491863249323106095638218124327636936325075867407890567924861678605119672931196945084090226395111824775220208493701609396460812885903658071010236489664598179662767734496421158924638287255552713656067710762142472832996549701031883717815565688004758013944505439774084295699130366117069732818390760315899228218859669748396762928517983094947149324294876980436557764682292091777746824717315811251083963999684862108358345203082633955504917015333965642088324268740226830877193402524602052083522587375460974995091426461617941775163845492115554641518426093097769353527903524769522507481254233866815013237549090577525386815104630873003409179639964208721653888261684464282950215255707502282882831546586893558045322315308242202140365447504314492323342022422378718451661777280968732545940517183552673152234584707159421161829484480213269797041901367668810337360647450337611391213984383066574159044307942868692069487006232969391424460114932351832810912541223056123595107124277483356430717760689779981170953497341795314725730778593104889170922440556497863282640828530455145936414633304925935743763996222923238254740155848957616239902905862775357825551244069187607610724175195685561205939670470067363280849979122461170131475481799015697887367585029222989690930569130649998307880379126623301067130294631138674847443604527653846089769174373111601276559193834405569966700661827943404775878454699372353118136551438680616355054953187003385111785901101566249403131763125827654386057381967275225135693470753863656579392538877599749248025268253646592430698123235879169662336774372223441643414013337944119575462147988424600168849053539703077311220357460223602460263501021343347667280299155093460856119386957426177840175625557004440496694989892473942045517945901662310210631036480144682330108766478903674722181727701698833703009848025656753563507402313921442130110604828934398239573928320049764669097047626028732949354676846875675631357585261946640225883797106520037035920098390423561117747418513753944441129990901438548939968996192933583993456265866772274490330647575761430714142900071223280957328988953787798799509770224427249485222059163028497808769688524734311303136256276293056799258224921595284041436894716538659957278013956615744764778747115489553307443576431469173489095994643000843042457659054254611896592518191789251186166823382079419736005996246961501025709571559211974261119440897832881042746076413237757368418462085310048067771327561869674416767949470211557687079804333152776424974303720310479877036490957541770961898668055549654881161612634426873513377481975842498447051963981428606141427278376839935103624763910702511238946150304623720479131738937882717415570087328253118813241057342850974590264506348566135989581270238078177129253777075144555019247077188230521859653611556692818023028749706330151706379178466102547754958142986581367189616039661235873315695054341097520070180811503785171527185793148061386297127342862882889685531204725941026206845803894455115512970959763640272959828276245063405426153134433812535425689392223385234894385806235683876634797014377436248964043422826496"
      ]
     },
     "execution_count": 14,
     "metadata": {},
     "output_type": "execute_result"
    }
   ],
   "source": [
    "8 ** (128 * 128)"
   ]
  },
  {
   "cell_type": "markdown",
   "id": "0517fe31-b44c-4b2b-a5b2-31eed04ccfd5",
   "metadata": {},
   "source": [
    "# The goal"
   ]
  },
  {
   "cell_type": "markdown",
   "id": "dd662602-fa29-4823-a585-abb765b1916a",
   "metadata": {},
   "source": [
    "Ideally we want to be able to generate images of _at least_ 256x256 pixels with 256 colors, but preferably as high as 512x512 with 512 colors. Try changing some of the variables in the example image generation code above and see what happens."
   ]
  },
  {
   "cell_type": "markdown",
   "id": "3c257a61-67fb-43bf-a8ee-e1a269c2497a",
   "metadata": {},
   "source": [
    "The puzzle is simply to devise a way to allow _all_ permutations to be referenced and generated by an index."
   ]
  },
  {
   "cell_type": "markdown",
   "id": "ee4b619a-f959-4b22-8a48-ed6a7edc52cb",
   "metadata": {},
   "source": [
    "# Reducing the numbers"
   ]
  },
  {
   "cell_type": "markdown",
   "id": "d4bd81f4-a904-4556-9870-2ff0b2a70157",
   "metadata": {},
   "source": [
    "Many iterations are similar enough that we may be able to reduce the number of images that _need_ to be accessed."
   ]
  },
  {
   "cell_type": "markdown",
   "id": "6d4b747f-4067-43d3-abbe-0eeb6162e4bf",
   "metadata": {},
   "source": [
    "## Inverted"
   ]
  },
  {
   "cell_type": "markdown",
   "id": "fa9c0566-27dc-4ac4-8e77-b2d1fb2c6e6b",
   "metadata": {},
   "source": [
    "For example each end of the sequence of permutations is identical but inverted, so we could immediately halve the number of indexes that need to be accessed. Where $i$ is the permutation index and $p$ is the total number of permutations, every permutation with an index lower than half of the total number of permutation has an inverted version at $p-i$ as demonstrated below:"
   ]
  },
  {
   "cell_type": "code",
   "execution_count": 18,
   "id": "9f79293c-0cb1-4c15-a902-e9851ab4e775",
   "metadata": {},
   "outputs": [
    {
     "data": {
      "image/png": "[encoded data removed]",
      "text/plain": [
       "<PIL.Image.Image image mode=RGB size=64x64>"
      ]
     },
     "metadata": {},
     "output_type": "display_data"
    },
    {
     "data": {
      "image/png": "[encoded data removed]",
      "text/plain": [
       "<PIL.Image.Image image mode=RGB size=64x64>"
      ]
     },
     "metadata": {},
     "output_type": "display_data"
    },
    {
     "data": {
      "image/png": "[encoded data removed]",
      "text/plain": [
       "<PIL.Image.Image image mode=RGB size=64x64>"
      ]
     },
     "metadata": {},
     "output_type": "display_data"
    },
    {
     "data": {
      "image/png": "[encoded data removed]",
      "text/plain": [
       "<PIL.Image.Image image mode=RGB size=64x64>"
      ]
     },
     "metadata": {},
     "output_type": "display_data"
    },
    {
     "data": {
      "image/png": "[encoded data removed]",
      "text/plain": [
       "<PIL.Image.Image image mode=RGB size=64x64>"
      ]
     },
     "metadata": {},
     "output_type": "display_data"
    },
    {
     "data": {
      "image/png": "[encoded data removed]",
      "text/plain": [
       "<PIL.Image.Image image mode=RGB size=64x64>"
      ]
     },
     "metadata": {},
     "output_type": "display_data"
    },
    {
     "data": {
      "image/png": "[encoded data removed]",
      "text/plain": [
       "<PIL.Image.Image image mode=RGB size=64x64>"
      ]
     },
     "metadata": {},
     "output_type": "display_data"
    },
    {
     "data": {
      "image/png": "[encoded data removed]",
      "text/plain": [
       "<PIL.Image.Image image mode=RGB size=64x64>"
      ]
     },
     "metadata": {},
     "output_type": "display_data"
    },
    {
     "data": {
      "image/png": "[encoded data removed]",
      "text/plain": [
       "<PIL.Image.Image image mode=RGB size=64x64>"
      ]
     },
     "metadata": {},
     "output_type": "display_data"
    },
    {
     "data": {
      "image/png": "[encoded data removed]",
      "text/plain": [
       "<PIL.Image.Image image mode=RGB size=64x64>"
      ]
     },
     "metadata": {},
     "output_type": "display_data"
    }
   ],
   "source": [
    "for i in range(0, 5):\n",
    "    display(generate_image(i, 4, 2).resize((64, 64), 0))\n",
    "    display(generate_image(num_permutations(4*4, 2) - i - 1, 4, 2).resize((64, 64), 0))"
   ]
  },
  {
   "cell_type": "markdown",
   "id": "291b2826-98bb-4ba7-b447-6b7eed1787e1",
   "metadata": {},
   "source": [
    "## Rotated"
   ]
  },
  {
   "cell_type": "markdown",
   "id": "4c0038e8-8a89-4acb-8d66-e072215c7e2c",
   "metadata": {},
   "source": [
    "And others will be rotated:"
   ]
  },
  {
   "cell_type": "code",
   "execution_count": 32,
   "id": "dba4b8f0-7612-4b80-997b-60f622fccd54",
   "metadata": {},
   "outputs": [
    {
     "data": {
      "image/png": "[encoded data removed]",
      "text/plain": [
       "<PIL.Image.Image image mode=RGB size=64x64>"
      ]
     },
     "metadata": {},
     "output_type": "display_data"
    },
    {
     "data": {
      "image/png": "[encoded data removed]",
      "text/plain": [
       "<PIL.Image.Image image mode=RGB size=64x64>"
      ]
     },
     "metadata": {},
     "output_type": "display_data"
    },
    {
     "data": {
      "image/png": "[encoded data removed]",
      "text/plain": [
       "<PIL.Image.Image image mode=RGB size=64x64>"
      ]
     },
     "metadata": {},
     "output_type": "display_data"
    },
    {
     "data": {
      "image/png": "[encoded data removed]",
      "text/plain": [
       "<PIL.Image.Image image mode=RGB size=64x64>"
      ]
     },
     "metadata": {},
     "output_type": "display_data"
    }
   ],
   "source": [
    "display(generate_image(1, 4, 2).resize((64, 64), 0))\n",
    "display(generate_image(8, 4, 2).resize((64, 64), 0))\n",
    "display(generate_image(4096, 4, 2).resize((64, 64), 0))\n",
    "display(generate_image(32768, 4, 2).resize((64, 64), 0))"
   ]
  },
  {
   "cell_type": "code",
   "execution_count": 59,
   "id": "4dab0946-81ab-49c6-b6d1-18607c9d3f60",
   "metadata": {},
   "outputs": [
    {
     "data": {
      "image/png": "[encoded data removed]",
      "text/plain": [
       "<PIL.Image.Image image mode=RGB size=64x64>"
      ]
     },
     "metadata": {},
     "output_type": "display_data"
    },
    {
     "data": {
      "image/png": "[encoded data removed]",
      "text/plain": [
       "<PIL.Image.Image image mode=RGB size=64x64>"
      ]
     },
     "metadata": {},
     "output_type": "display_data"
    },
    {
     "data": {
      "image/png": "[encoded data removed]",
      "text/plain": [
       "<PIL.Image.Image image mode=RGB size=64x64>"
      ]
     },
     "metadata": {},
     "output_type": "display_data"
    },
    {
     "data": {
      "image/png": "[encoded data removed]",
      "text/plain": [
       "<PIL.Image.Image image mode=RGB size=64x64>"
      ]
     },
     "metadata": {},
     "output_type": "display_data"
    }
   ],
   "source": [
    "display(generate_image(2, 4, 2).resize((64, 64), 0))\n",
    "display(generate_image(128, 4, 2).resize((64, 64), 0))\n",
    "display(generate_image(256, 4, 2).resize((64, 64), 0))\n",
    "display(generate_image(16384, 4, 2).resize((64, 64), 0))"
   ]
  },
  {
   "cell_type": "markdown",
   "id": "d99d62a9-f5c4-4a24-8532-eac70f03a4c7",
   "metadata": {},
   "source": [
    "## Flipped"
   ]
  },
  {
   "cell_type": "markdown",
   "id": "b64a6bde-01a8-4390-9582-7f9a7f879254",
   "metadata": {},
   "source": [
    "And others will be flipped:"
   ]
  },
  {
   "cell_type": "code",
   "execution_count": 66,
   "id": "2b98078e-12d7-48a8-b336-d0602aacbc02",
   "metadata": {},
   "outputs": [
    {
     "data": {
      "image/png": "[encoded data removed]",
      "text/plain": [
       "<PIL.Image.Image image mode=RGB size=64x64>"
      ]
     },
     "metadata": {},
     "output_type": "display_data"
    },
    {
     "data": {
      "image/png": "[encoded data removed]",
      "text/plain": [
       "<PIL.Image.Image image mode=RGB size=64x64>"
      ]
     },
     "metadata": {},
     "output_type": "display_data"
    },
    {
     "data": {
      "image/png": "[encoded data removed]",
      "text/plain": [
       "<PIL.Image.Image image mode=RGB size=64x64>"
      ]
     },
     "metadata": {},
     "output_type": "display_data"
    },
    {
     "data": {
      "image/png": "[encoded data removed]",
      "text/plain": [
       "<PIL.Image.Image image mode=RGB size=64x64>"
      ]
     },
     "metadata": {},
     "output_type": "display_data"
    }
   ],
   "source": [
    "display(generate_image(16, 4, 2).resize((64, 64), 0))\n",
    "display(generate_image(128, 4, 2).resize((64, 64), 0))\n",
    "display(generate_image(256, 4, 2).resize((64, 64), 0))\n",
    "display(generate_image(2048, 4, 2).resize((64, 64), 0))"
   ]
  },
  {
   "cell_type": "code",
   "execution_count": 67,
   "id": "dcd97583-252e-45d0-8b82-1edbe52ce126",
   "metadata": {},
   "outputs": [
    {
     "data": {
      "image/png": "[encoded data removed]",
      "text/plain": [
       "<PIL.Image.Image image mode=RGB size=64x64>"
      ]
     },
     "metadata": {},
     "output_type": "display_data"
    },
    {
     "data": {
      "image/png": "[encoded data removed]",
      "text/plain": [
       "<PIL.Image.Image image mode=RGB size=64x64>"
      ]
     },
     "metadata": {},
     "output_type": "display_data"
    },
    {
     "data": {
      "image/png": "[encoded data removed]",
      "text/plain": [
       "<PIL.Image.Image image mode=RGB size=64x64>"
      ]
     },
     "metadata": {},
     "output_type": "display_data"
    },
    {
     "data": {
      "image/png": "[encoded data removed]",
      "text/plain": [
       "<PIL.Image.Image image mode=RGB size=64x64>"
      ]
     },
     "metadata": {},
     "output_type": "display_data"
    }
   ],
   "source": [
    "display(generate_image(2, 4, 2).resize((64, 64), 0))\n",
    "display(generate_image(8192, 4, 2).resize((64, 64), 0))\n",
    "display(generate_image(4, 4, 2).resize((64, 64), 0))\n",
    "display(generate_image(16384, 4, 2).resize((64, 64), 0))"
   ]
  }
 ],
 "metadata": {
  "kernelspec": {
   "display_name": "Python 3 (ipykernel)",
   "language": "python",
   "name": "python3"
  },
  "language_info": {
   "codemirror_mode": {
    "name": "ipython",
    "version": 3
   },
   "file_extension": ".py",
   "mimetype": "text/x-python",
   "name": "python",
   "nbconvert_exporter": "python",
   "pygments_lexer": "ipython3",
   "version": "3.8.13"
  },
  "toc-autonumbering": false,
  "toc-showcode": false,
  "toc-showmarkdowntxt": false,
  "toc-showtags": false
 },
 "nbformat": 4,
 "nbformat_minor": 5
}
