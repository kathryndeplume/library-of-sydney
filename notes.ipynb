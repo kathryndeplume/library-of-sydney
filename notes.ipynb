{
 "cells": [
  {
   "cell_type": "markdown",
   "id": "6d5f537c-db23-4932-893b-9bfaee1efc59",
   "metadata": {
    "tags": []
   },
   "source": [
    "# Introduction\n",
    "\n",
    "If you were to generate an image for every possible arrangement of pixels, then you would have every single image that has ever been created, _or ever will_.\n",
    "\n",
    "Could you dig out images from the past?\n",
    "\n",
    "_From the future?_\n",
    "\n",
    "Could you find people who never existed?\n",
    "\n",
    "_Could you find yourself?_"
   ]
  },
  {
   "cell_type": "markdown",
   "id": "1d0c0104-c7c0-4186-924f-80371caa5cd3",
   "metadata": {},
   "source": [
    "# A working model\n",
    "\n",
    "In this model, each pixel contains a single integer value which denotes its color.\n",
    "\n",
    "For example, an 2x2 image with 2 colors may look like this:\n",
    "\n",
    "    00\n",
    "    00\n",
    "\n",
    "There are 16 possible permutations for this image, the other 15 are:\n",
    "\n",
    "    10  01  11  00  10  01  11  00  10  01  11  00  10  01  11\n",
    "    00  00  00  10  10  10  10  01  01  01  01  11  11  11  11\n",
    "\n",
    "The sequence is created logically and sequentially by incrementing each pixel through all of its color values and then resetting it to zero and incrementing its next neighbour, until all pixels are equal to the maximum color value, as demonstrated by the following code:"
   ]
  },
  {
   "cell_type": "code",
   "execution_count": 1,
   "id": "1b5d4edd-c824-4278-8885-64eb4b89a571",
   "metadata": {},
   "outputs": [
    {
     "name": "stdout",
     "output_type": "stream",
     "text": [
      "0  = [0, 0, 0, 0]\n",
      "1  = [1, 0, 0, 0]\n",
      "2  = [0, 1, 0, 0]\n",
      "3  = [1, 1, 0, 0]\n",
      "4  = [0, 0, 1, 0]\n",
      "5  = [1, 0, 1, 0]\n",
      "6  = [0, 1, 1, 0]\n",
      "7  = [1, 1, 1, 0]\n",
      "8  = [0, 0, 0, 1]\n",
      "9  = [1, 0, 0, 1]\n",
      "10 = [0, 1, 0, 1]\n",
      "11 = [1, 1, 0, 1]\n",
      "12 = [0, 0, 1, 1]\n",
      "13 = [1, 0, 1, 1]\n",
      "14 = [0, 1, 1, 1]\n",
      "15 = [1, 1, 1, 1]\n"
     ]
    }
   ],
   "source": [
    "image = [0] * 2*2\n",
    "index = 0\n",
    "\n",
    "print(\"{:<2} = {}\".format(index, image))\n",
    "\n",
    "while image[-1] != 1 or image.count(image[0]) != len(image):\n",
    "    index += 1\n",
    "\n",
    "    image[0] += 1\n",
    "\n",
    "    for i in range(0, len(image)):\n",
    "        if image[i] > 1:\n",
    "            image[i] = 0\n",
    "\n",
    "            if i < len(image):\n",
    "                image[i+1] += 1\n",
    "\n",
    "    print(\"{:<2} = {}\".format(index, image))"
   ]
  },
  {
   "cell_type": "markdown",
   "id": "71a6bc0d-e9f5-4fbc-81ff-d66b09e84aef",
   "metadata": {
    "tags": [
     "output_scroll"
    ]
   },
   "source": [
    "# Calculating permutations\n",
    "\n",
    "Where $c$ is the maximum number of colors and $p$ is the total number of pixels, $p$ pixels can have $c$ possible values that can be combined with each value of each other pixel in the image, or $c^{p}$."
   ]
  },
  {
   "cell_type": "code",
   "execution_count": 2,
   "id": "c2c5c546-2dbe-482a-9ce4-e9b1140a36fb",
   "metadata": {},
   "outputs": [
    {
     "name": "stdout",
     "output_type": "stream",
     "text": [
      "1x1 => 2\n",
      "2x2 => 16\n",
      "3x3 => 512\n",
      "4x4 => 65536\n"
     ]
    }
   ],
   "source": [
    "for i in range(1, 5):\n",
    "    print(\"{}x{} => {}\".format(i, i, 2 ** (i*i)))"
   ]
  },
  {
   "cell_type": "markdown",
   "id": "eff14657-96e2-4f96-a7b5-449be7e8dac0",
   "metadata": {},
   "source": [
    "# Generating pixel data\n",
    "\n",
    "If you look at the sequence of permutations above you'll notice that the first pixel increments every iteration, but the second pixel increments only when the first pixel has completed its cycle and reset to zero and so it takes two iterations to change value. The third pixel increments only when the _second_ pixel has completed its cycle and reset to zero and so it takes _four_ iterations to change value.\n",
    "\n",
    "So where $i$ is the index position of a given pixel and $c$ is the maximum number of colors, the rate at which a pixel increments is determined by $c^{i}$."
   ]
  },
  {
   "cell_type": "code",
   "execution_count": 3,
   "id": "b3d55960-9142-4ba4-b5ba-78240e091e72",
   "metadata": {},
   "outputs": [
    {
     "name": "stdout",
     "output_type": "stream",
     "text": [
      "0 => 1\n",
      "1 => 2\n",
      "2 => 4\n",
      "3 => 8\n"
     ]
    }
   ],
   "source": [
    "for i in range(0, 4):\n",
    "    print(\"{} => {}\".format(i, 2**i))"
   ]
  },
  {
   "cell_type": "markdown",
   "id": "01f9cec2-413f-4aab-b8d8-a58aacd01f99",
   "metadata": {},
   "source": [
    "So where $p$ is the index of the iteration in the sequence and $c$ is the maximum number of colors, the value of the pixel at index position $i$ can be determined by the integer value of $int(\\frac{p}{c^{i}}) mod c$."
   ]
  },
  {
   "cell_type": "markdown",
   "id": "1df7a5e6-5d75-414c-98d6-d5c66913b13f",
   "metadata": {},
   "source": [
    "We can test this out by calculating the values of the 6th iteration of our 2x2 example (1010):"
   ]
  },
  {
   "cell_type": "code",
   "execution_count": 4,
   "id": "3b2f0659-0504-41bb-b713-3d8816e262eb",
   "metadata": {},
   "outputs": [
    {
     "name": "stdout",
     "output_type": "stream",
     "text": [
      "1\n",
      "0\n",
      "1\n",
      "0\n"
     ]
    }
   ],
   "source": [
    "for i in range(0, 4):\n",
    "    print(int(5 / (2 ** i)) % 2)"
   ]
  },
  {
   "cell_type": "markdown",
   "id": "30da023b-b65a-4366-af23-d854e04015a9",
   "metadata": {
    "tags": []
   },
   "source": [
    "# Generating image data"
   ]
  },
  {
   "cell_type": "markdown",
   "id": "e647e1e6-5d2a-4aae-ba25-4152fc39e67a",
   "metadata": {},
   "source": [
    "We can test these out by grabbing the permutations from our 2x2 example:"
   ]
  },
  {
   "cell_type": "code",
   "execution_count": 5,
   "id": "5ad7e7e8-3db9-4c80-84f1-23156016bc0c",
   "metadata": {},
   "outputs": [
    {
     "name": "stdout",
     "output_type": "stream",
     "text": [
      "[0, 0, 0, 0]\n",
      "[1, 0, 0, 0]\n",
      "[0, 1, 0, 0]\n",
      "[1, 1, 0, 0]\n",
      "[0, 0, 1, 0]\n",
      "[1, 0, 1, 0]\n",
      "[0, 1, 1, 0]\n",
      "[1, 1, 1, 0]\n",
      "[0, 0, 0, 1]\n",
      "[1, 0, 0, 1]\n",
      "[0, 1, 0, 1]\n",
      "[1, 1, 0, 1]\n",
      "[0, 0, 1, 1]\n",
      "[1, 0, 1, 1]\n",
      "[0, 1, 1, 1]\n",
      "[1, 1, 1, 1]\n"
     ]
    }
   ],
   "source": [
    "for i in range(0, 16):\n",
    "    print(list(map(lambda j: int(i / (2 ** j)) % 2, range(0, 2*2))))"
   ]
  },
  {
   "cell_type": "markdown",
   "id": "16adb1ed-be67-44ca-9b5c-92ddc2f7abb6",
   "metadata": {},
   "source": [
    "# Putting it all together"
   ]
  },
  {
   "cell_type": "markdown",
   "id": "64c1d658",
   "metadata": {},
   "source": [
    "Here's a simple image generator based on the code so far:"
   ]
  },
  {
   "cell_type": "code",
   "execution_count": 6,
   "id": "40f5b008",
   "metadata": {},
   "outputs": [],
   "source": [
    "from PIL import Image\n",
    "from random import randrange\n",
    "\n",
    "\n",
    "class ImageGenerator:\n",
    "    def __init__(self, size, colors):\n",
    "        self.size = size\n",
    "        self.colors = colors\n",
    "\n",
    "    def permutations(self):\n",
    "        return self.colors ** (self.size * self.size)\n",
    "\n",
    "    def generate(self, index):\n",
    "        image = Image.new(\"RGB\", (self.size, self.size))\n",
    "\n",
    "        for y in range(0, self.size):\n",
    "            for x in range(0, self.size):\n",
    "                pixel = ((y * self.size) + x)\n",
    "                value = int(index / (self.colors ** pixel)) % self.colors\n",
    "                color = int((255 / self.colors) * value)\n",
    "\n",
    "                image.putpixel((x, y), (color, color, color))\n",
    "\n",
    "        return image\n",
    "\n",
    "    def random(self):\n",
    "        return self.generate(randrange(0, self.permutations()))"
   ]
  },
  {
   "cell_type": "markdown",
   "id": "6266a507-04bd-4615-ba93-9a35766367e4",
   "metadata": {},
   "source": [
    "And a couple of helper methods to clean up some of the code:"
   ]
  },
  {
   "cell_type": "code",
   "execution_count": 7,
   "id": "8d036059-cc4e-4625-b256-fdd214cc8e5a",
   "metadata": {},
   "outputs": [],
   "source": [
    "def display_image(image, size=32):\n",
    "    display(image.resize((size, size), 0))"
   ]
  },
  {
   "cell_type": "markdown",
   "id": "f67d4c0c",
   "metadata": {},
   "source": [
    "And make multiple images print out all nice and pretty:"
   ]
  },
  {
   "cell_type": "code",
   "execution_count": 8,
   "id": "4031cfe2-9523-481c-8584-ff2c4efbf09a",
   "metadata": {},
   "outputs": [],
   "source": [
    "def display_images(images, size=32, gap=16):\n",
    "    res = Image.new('RGBA', (0, 0))\n",
    "\n",
    "    for i in range(0, len(images)):\n",
    "        img = Image.new('RGBA', (res.width + size + gap, size))\n",
    "        img.paste(res)\n",
    "        img.paste(images[i].resize((size, size), 0),\n",
    "                  ((size * i) + (gap * i), 0))\n",
    "\n",
    "        res = img\n",
    "\n",
    "    display(res)"
   ]
  },
  {
   "cell_type": "markdown",
   "id": "6168b79e",
   "metadata": {},
   "source": [
    "## Examples\n",
    "\n",
    "And now we can try generating some _actual_ images.."
   ]
  },
  {
   "cell_type": "markdown",
   "id": "997df8a0-f7dd-4899-a05b-98394e073f04",
   "metadata": {},
   "source": [
    "### All permutations of 2x2"
   ]
  },
  {
   "cell_type": "code",
   "execution_count": 9,
   "id": "0181c6ea",
   "metadata": {},
   "outputs": [],
   "source": [
    "gen2x2 = ImageGenerator(2, 2)"
   ]
  },
  {
   "cell_type": "code",
   "execution_count": 10,
   "id": "5afda323-39e8-40f4-86ea-f6a04da8b60b",
   "metadata": {},
   "outputs": [
    {
     "data": {
      "image/png": "[encoded data removed]",
      "text/plain": [
       "<PIL.Image.Image image mode=RGBA size=768x32>"
      ]
     },
     "metadata": {},
     "output_type": "display_data"
    }
   ],
   "source": [
    "display_images(\n",
    "    list(map(lambda i: gen2x2.generate(i), range(0, gen2x2.permutations())))\n",
    ")"
   ]
  },
  {
   "cell_type": "markdown",
   "id": "a2d473e5",
   "metadata": {},
   "source": [
    "### All permutations of 3x3"
   ]
  },
  {
   "cell_type": "code",
   "execution_count": 11,
   "id": "2a8495a2",
   "metadata": {},
   "outputs": [
    {
     "data": {
      "image/png": "[encoded data removed]",
      "text/plain": [
       "<PIL.Image.Image image mode=RGBA size=768x32>"
      ]
     },
     "metadata": {},
     "output_type": "display_data"
    },
    {
     "data": {
      "image/png": "[encoded data removed]",
      "text/plain": [
       "<PIL.Image.Image image mode=RGBA size=768x32>"
      ]
     },
     "metadata": {},
     "output_type": "display_data"
    },
    {
     "data": {
      "image/png": "[encoded data removed]",
      "text/plain": [
       "<PIL.Image.Image image mode=RGBA size=768x32>"
      ]
     },
     "metadata": {},
     "output_type": "display_data"
    },
    {
     "data": {
      "image/png": "[encoded data removed]",
      "text/plain": [
       "<PIL.Image.Image image mode=RGBA size=768x32>"
      ]
     },
     "metadata": {},
     "output_type": "display_data"
    },
    {
     "data": {
      "image/png": "[encoded data removed]",
      "text/plain": [
       "<PIL.Image.Image image mode=RGBA size=768x32>"
      ]
     },
     "metadata": {},
     "output_type": "display_data"
    },
    {
     "data": {
      "image/png": "[encoded data removed]",
      "text/plain": [
       "<PIL.Image.Image image mode=RGBA size=768x32>"
      ]
     },
     "metadata": {},
     "output_type": "display_data"
    },
    {
     "data": {
      "image/png": "[encoded data removed]",
      "text/plain": [
       "<PIL.Image.Image image mode=RGBA size=768x32>"
      ]
     },
     "metadata": {},
     "output_type": "display_data"
    },
    {
     "data": {
      "image/png": "[encoded data removed]",
      "text/plain": [
       "<PIL.Image.Image image mode=RGBA size=768x32>"
      ]
     },
     "metadata": {},
     "output_type": "display_data"
    },
    {
     "data": {
      "image/png": "[encoded data removed]",
      "text/plain": [
       "<PIL.Image.Image image mode=RGBA size=768x32>"
      ]
     },
     "metadata": {},
     "output_type": "display_data"
    },
    {
     "data": {
      "image/png": "[encoded data removed]",
      "text/plain": [
       "<PIL.Image.Image image mode=RGBA size=768x32>"
      ]
     },
     "metadata": {},
     "output_type": "display_data"
    },
    {
     "data": {
      "image/png": "[encoded data removed]",
      "text/plain": [
       "<PIL.Image.Image image mode=RGBA size=768x32>"
      ]
     },
     "metadata": {},
     "output_type": "display_data"
    },
    {
     "data": {
      "image/png": "[encoded data removed]",
      "text/plain": [
       "<PIL.Image.Image image mode=RGBA size=768x32>"
      ]
     },
     "metadata": {},
     "output_type": "display_data"
    },
    {
     "data": {
      "image/png": "[encoded data removed]",
      "text/plain": [
       "<PIL.Image.Image image mode=RGBA size=768x32>"
      ]
     },
     "metadata": {},
     "output_type": "display_data"
    },
    {
     "data": {
      "image/png": "[encoded data removed]",
      "text/plain": [
       "<PIL.Image.Image image mode=RGBA size=768x32>"
      ]
     },
     "metadata": {},
     "output_type": "display_data"
    },
    {
     "data": {
      "image/png": "[encoded data removed]",
      "text/plain": [
       "<PIL.Image.Image image mode=RGBA size=768x32>"
      ]
     },
     "metadata": {},
     "output_type": "display_data"
    },
    {
     "data": {
      "image/png": "[encoded data removed]",
      "text/plain": [
       "<PIL.Image.Image image mode=RGBA size=768x32>"
      ]
     },
     "metadata": {},
     "output_type": "display_data"
    },
    {
     "data": {
      "image/png": "[encoded data removed]",
      "text/plain": [
       "<PIL.Image.Image image mode=RGBA size=768x32>"
      ]
     },
     "metadata": {},
     "output_type": "display_data"
    },
    {
     "data": {
      "image/png": "[encoded data removed]",
      "text/plain": [
       "<PIL.Image.Image image mode=RGBA size=768x32>"
      ]
     },
     "metadata": {},
     "output_type": "display_data"
    },
    {
     "data": {
      "image/png": "[encoded data removed]",
      "text/plain": [
       "<PIL.Image.Image image mode=RGBA size=768x32>"
      ]
     },
     "metadata": {},
     "output_type": "display_data"
    },
    {
     "data": {
      "image/png": "[encoded data removed]",
      "text/plain": [
       "<PIL.Image.Image image mode=RGBA size=768x32>"
      ]
     },
     "metadata": {},
     "output_type": "display_data"
    },
    {
     "data": {
      "image/png": "[encoded data removed]",
      "text/plain": [
       "<PIL.Image.Image image mode=RGBA size=768x32>"
      ]
     },
     "metadata": {},
     "output_type": "display_data"
    },
    {
     "data": {
      "image/png": "[encoded data removed]",
      "text/plain": [
       "<PIL.Image.Image image mode=RGBA size=768x32>"
      ]
     },
     "metadata": {},
     "output_type": "display_data"
    },
    {
     "data": {
      "image/png": "[encoded data removed]",
      "text/plain": [
       "<PIL.Image.Image image mode=RGBA size=768x32>"
      ]
     },
     "metadata": {},
     "output_type": "display_data"
    },
    {
     "data": {
      "image/png": "[encoded data removed]",
      "text/plain": [
       "<PIL.Image.Image image mode=RGBA size=768x32>"
      ]
     },
     "metadata": {},
     "output_type": "display_data"
    },
    {
     "data": {
      "image/png": "[encoded data removed]",
      "text/plain": [
       "<PIL.Image.Image image mode=RGBA size=768x32>"
      ]
     },
     "metadata": {},
     "output_type": "display_data"
    },
    {
     "data": {
      "image/png": "[encoded data removed]",
      "text/plain": [
       "<PIL.Image.Image image mode=RGBA size=768x32>"
      ]
     },
     "metadata": {},
     "output_type": "display_data"
    },
    {
     "data": {
      "image/png": "[encoded data removed]",
      "text/plain": [
       "<PIL.Image.Image image mode=RGBA size=768x32>"
      ]
     },
     "metadata": {},
     "output_type": "display_data"
    },
    {
     "data": {
      "image/png": "[encoded data removed]",
      "text/plain": [
       "<PIL.Image.Image image mode=RGBA size=768x32>"
      ]
     },
     "metadata": {},
     "output_type": "display_data"
    },
    {
     "data": {
      "image/png": "[encoded data removed]",
      "text/plain": [
       "<PIL.Image.Image image mode=RGBA size=768x32>"
      ]
     },
     "metadata": {},
     "output_type": "display_data"
    },
    {
     "data": {
      "image/png": "[encoded data removed]",
      "text/plain": [
       "<PIL.Image.Image image mode=RGBA size=768x32>"
      ]
     },
     "metadata": {},
     "output_type": "display_data"
    },
    {
     "data": {
      "image/png": "[encoded data removed]",
      "text/plain": [
       "<PIL.Image.Image image mode=RGBA size=768x32>"
      ]
     },
     "metadata": {},
     "output_type": "display_data"
    },
    {
     "data": {
      "image/png": "[encoded data removed]",
      "text/plain": [
       "<PIL.Image.Image image mode=RGBA size=768x32>"
      ]
     },
     "metadata": {},
     "output_type": "display_data"
    }
   ],
   "source": [
    "gen3x3 = ImageGenerator(3, 2)\n",
    "\n",
    "for i in range(0, gen3x3.permutations(), 16):\n",
    "    display_images(list(map(lambda i: gen3x3.generate(i), range(i, i + 16))))"
   ]
  },
  {
   "cell_type": "markdown",
   "id": "c06e69b9-e0f3-4dba-a041-e5bea78a8306",
   "metadata": {},
   "source": [
    "### Random 8x8"
   ]
  },
  {
   "cell_type": "code",
   "execution_count": 12,
   "id": "48c496c9",
   "metadata": {},
   "outputs": [],
   "source": [
    "gen8x8 = ImageGenerator(8, 2)"
   ]
  },
  {
   "cell_type": "code",
   "execution_count": 13,
   "id": "8d6f814e-3b6e-4a35-8eaf-c16e4422c632",
   "metadata": {},
   "outputs": [
    {
     "data": {
      "image/png": "[encoded data removed]",
      "text/plain": [
       "<PIL.Image.Image image mode=RGBA size=384x32>"
      ]
     },
     "metadata": {},
     "output_type": "display_data"
    }
   ],
   "source": [
    "display_images([\n",
    "    gen8x8.random(),\n",
    "    gen8x8.random(),\n",
    "    gen8x8.random(),\n",
    "    gen8x8.random(),\n",
    "    gen8x8.random(),\n",
    "    gen8x8.random(),\n",
    "    gen8x8.random(),\n",
    "    gen8x8.random()\n",
    "])"
   ]
  },
  {
   "cell_type": "markdown",
   "id": "ac498e91",
   "metadata": {},
   "source": [
    "Some images from some way through the iterations for illustration purposes:"
   ]
  },
  {
   "cell_type": "code",
   "execution_count": 14,
   "id": "191dab6c",
   "metadata": {},
   "outputs": [
    {
     "data": {
      "image/png": "[encoded data removed]",
      "text/plain": [
       "<PIL.Image.Image image mode=RGBA size=768x32>"
      ]
     },
     "metadata": {},
     "output_type": "display_data"
    },
    {
     "data": {
      "image/png": "[encoded data removed]",
      "text/plain": [
       "<PIL.Image.Image image mode=RGBA size=768x32>"
      ]
     },
     "metadata": {},
     "output_type": "display_data"
    },
    {
     "data": {
      "image/png": "[encoded data removed]",
      "text/plain": [
       "<PIL.Image.Image image mode=RGBA size=768x32>"
      ]
     },
     "metadata": {},
     "output_type": "display_data"
    },
    {
     "data": {
      "image/png": "[encoded data removed]",
      "text/plain": [
       "<PIL.Image.Image image mode=RGBA size=768x32>"
      ]
     },
     "metadata": {},
     "output_type": "display_data"
    },
    {
     "data": {
      "image/png": "[encoded data removed]",
      "text/plain": [
       "<PIL.Image.Image image mode=RGBA size=768x32>"
      ]
     },
     "metadata": {},
     "output_type": "display_data"
    },
    {
     "data": {
      "image/png": "[encoded data removed]",
      "text/plain": [
       "<PIL.Image.Image image mode=RGBA size=768x32>"
      ]
     },
     "metadata": {},
     "output_type": "display_data"
    },
    {
     "data": {
      "image/png": "[encoded data removed]",
      "text/plain": [
       "<PIL.Image.Image image mode=RGBA size=768x32>"
      ]
     },
     "metadata": {},
     "output_type": "display_data"
    },
    {
     "data": {
      "image/png": "[encoded data removed]",
      "text/plain": [
       "<PIL.Image.Image image mode=RGBA size=768x32>"
      ]
     },
     "metadata": {},
     "output_type": "display_data"
    }
   ],
   "source": [
    "iter_start = int(2 ** 46) + 2304934455\n",
    "iter_end = iter_start + 128\n",
    "\n",
    "for i in range(iter_start, iter_end, 16):\n",
    "    display_images(list(map(lambda i: gen8x8.generate(i), range(i, i + 16))))"
   ]
  },
  {
   "cell_type": "markdown",
   "id": "3e11f31e-649d-464a-baaa-092cfe2ed7bf",
   "metadata": {},
   "source": [
    "# The problem\n",
    "\n",
    "Things start to go awry as you increase the size and color depth of the image.\n",
    "\n",
    "A tiny image of just 32x32 pixels and 8 colors has an incredible number of permutations:"
   ]
  },
  {
   "cell_type": "code",
   "execution_count": 15,
   "id": "5a46fb3c-2f18-4778-a14c-43164abcf44e",
   "metadata": {},
   "outputs": [
    {
     "data": {
      "text/plain": [
       "5809605995369958062859502533304574370686975176362895236661486152287203730997110225737336044533118407251326157754980517443990529594540047121662885672187032401032111639706440498844049850989051627200244765807041812394729680540024104827976584369381522292361208779044769892743225751738076979568811309579125511333093243519553784816306381580161860200247492568448150242515304449577187604136428738580990172551573934146255830366405915000869643732053218566832545291107903722831634138599586406690325959725187447169059540805012310209639011750748760017095360734234945757416272994856013308616958529958304677637019181594088528345061285863898271763457294883546638879554311615446446330199254382340016292057090751175533888161918987295591531536698701292267685465517437915790823154844634780260102891718032495396075041899485513811126977307478969074857043710716150121315922024556759241239013152919710956468406379442914941614357107914462567329693696"
      ]
     },
     "execution_count": 15,
     "metadata": {},
     "output_type": "execute_result"
    }
   ],
   "source": [
    "8 ** (32 * 32)"
   ]
  },
  {
   "cell_type": "markdown",
   "id": "b60a39d8-f42b-4fab-bcee-76f67c0a6ae8",
   "metadata": {},
   "source": [
    "Even at 128x128 with 8 colors the number of permutations is astronomical, and we'd need to go a lot higher than that."
   ]
  },
  {
   "cell_type": "markdown",
   "id": "0517fe31-b44c-4b2b-a5b2-31eed04ccfd5",
   "metadata": {},
   "source": [
    "# The goal\n",
    "\n",
    "Ideally we want to be able to generate images of _at least_ 256x256 pixels with 256 colors, but preferably as high as 512x512 with 512 colors. Try changing some of the variables in the example image generation code above and see what happens.\n",
    "\n",
    "The puzzle is simply to devise a way to allow _all_ permutations to be referenced and generated by an index."
   ]
  },
  {
   "cell_type": "markdown",
   "id": "ee4b619a-f959-4b22-8a48-ed6a7edc52cb",
   "metadata": {},
   "source": [
    "# Reducing the numbers\n",
    "\n",
    "Many iterations are similar enough that we may be able to reduce the number of images that _need_ to be accessed."
   ]
  },
  {
   "cell_type": "markdown",
   "id": "6d4b747f-4067-43d3-abbe-0eeb6162e4bf",
   "metadata": {},
   "source": [
    "## Inverted permutations\n",
    "\n",
    "For example each end of the sequence of permutations is identical but inverted, so we could immediately halve the number of indexes that need to be accessed. Where $i$ is the permutation index and $p$ is the total number of permutations, every permutation with an index lower than half of the total number of permutation has an inverted version at $p-i$ as demonstrated below:"
   ]
  },
  {
   "cell_type": "code",
   "execution_count": 16,
   "id": "9f79293c-0cb1-4c15-a902-e9851ab4e775",
   "metadata": {},
   "outputs": [
    {
     "data": {
      "image/png": "[encoded data removed]",
      "text/plain": [
       "<PIL.Image.Image image mode=RGBA size=96x32>"
      ]
     },
     "metadata": {},
     "output_type": "display_data"
    },
    {
     "data": {
      "image/png": "[encoded data removed]",
      "text/plain": [
       "<PIL.Image.Image image mode=RGBA size=96x32>"
      ]
     },
     "metadata": {},
     "output_type": "display_data"
    },
    {
     "data": {
      "image/png": "[encoded data removed]",
      "text/plain": [
       "<PIL.Image.Image image mode=RGBA size=96x32>"
      ]
     },
     "metadata": {},
     "output_type": "display_data"
    },
    {
     "data": {
      "image/png": "[encoded data removed]",
      "text/plain": [
       "<PIL.Image.Image image mode=RGBA size=96x32>"
      ]
     },
     "metadata": {},
     "output_type": "display_data"
    },
    {
     "data": {
      "image/png": "[encoded data removed]",
      "text/plain": [
       "<PIL.Image.Image image mode=RGBA size=96x32>"
      ]
     },
     "metadata": {},
     "output_type": "display_data"
    }
   ],
   "source": [
    "gen4x4 = ImageGenerator(4, 2)\n",
    "\n",
    "for i in range(0, 5):\n",
    "    display_images([\n",
    "        gen4x4.generate(i),\n",
    "        gen4x4.generate(gen4x4.permutations() - i - 1)\n",
    "    ])"
   ]
  },
  {
   "cell_type": "markdown",
   "id": "291b2826-98bb-4ba7-b447-6b7eed1787e1",
   "metadata": {},
   "source": [
    "## Rotated permutations\n",
    "\n",
    "And others will be rotated:\n"
   ]
  },
  {
   "cell_type": "code",
   "execution_count": 17,
   "id": "dba4b8f0-7612-4b80-997b-60f622fccd54",
   "metadata": {},
   "outputs": [
    {
     "data": {
      "image/png": "[encoded data removed]",
      "text/plain": [
       "<PIL.Image.Image image mode=RGBA size=96x32>"
      ]
     },
     "metadata": {},
     "output_type": "display_data"
    },
    {
     "data": {
      "image/png": "[encoded data removed]",
      "text/plain": [
       "<PIL.Image.Image image mode=RGBA size=96x32>"
      ]
     },
     "metadata": {},
     "output_type": "display_data"
    }
   ],
   "source": [
    "display_images([\n",
    "    gen4x4.generate(1),\n",
    "    gen4x4.generate(8)\n",
    "])\n",
    "\n",
    "display_images([\n",
    "    gen4x4.generate(4096),\n",
    "    gen4x4.generate(32768)\n",
    "])"
   ]
  },
  {
   "cell_type": "code",
   "execution_count": 18,
   "id": "4dab0946-81ab-49c6-b6d1-18607c9d3f60",
   "metadata": {},
   "outputs": [
    {
     "data": {
      "image/png": "[encoded data removed]",
      "text/plain": [
       "<PIL.Image.Image image mode=RGBA size=96x32>"
      ]
     },
     "metadata": {},
     "output_type": "display_data"
    },
    {
     "data": {
      "image/png": "[encoded data removed]",
      "text/plain": [
       "<PIL.Image.Image image mode=RGBA size=96x32>"
      ]
     },
     "metadata": {},
     "output_type": "display_data"
    }
   ],
   "source": [
    "display_images([\n",
    "    gen4x4.generate(2),\n",
    "    gen4x4.generate(128)\n",
    "])\n",
    "\n",
    "display_images([\n",
    "    gen4x4.generate(256),\n",
    "    gen4x4.generate(16384)\n",
    "])"
   ]
  },
  {
   "cell_type": "markdown",
   "id": "d99d62a9-f5c4-4a24-8532-eac70f03a4c7",
   "metadata": {},
   "source": [
    "## Flipped permutations\n",
    "\n",
    "And others will be flipped:"
   ]
  },
  {
   "cell_type": "code",
   "execution_count": 19,
   "id": "2b98078e-12d7-48a8-b336-d0602aacbc02",
   "metadata": {},
   "outputs": [
    {
     "data": {
      "image/png": "[encoded data removed]",
      "text/plain": [
       "<PIL.Image.Image image mode=RGBA size=96x32>"
      ]
     },
     "metadata": {},
     "output_type": "display_data"
    },
    {
     "data": {
      "image/png": "[encoded data removed]",
      "text/plain": [
       "<PIL.Image.Image image mode=RGBA size=96x32>"
      ]
     },
     "metadata": {},
     "output_type": "display_data"
    }
   ],
   "source": [
    "display_images([\n",
    "    gen4x4.generate(16),\n",
    "    gen4x4.generate(128)\n",
    "])\n",
    "\n",
    "display_images([\n",
    "    gen4x4.generate(256),\n",
    "    gen4x4.generate(2048)\n",
    "])"
   ]
  },
  {
   "cell_type": "code",
   "execution_count": 20,
   "id": "dcd97583-252e-45d0-8b82-1edbe52ce126",
   "metadata": {},
   "outputs": [
    {
     "data": {
      "image/png": "[encoded data removed]",
      "text/plain": [
       "<PIL.Image.Image image mode=RGBA size=96x32>"
      ]
     },
     "metadata": {},
     "output_type": "display_data"
    },
    {
     "data": {
      "image/png": "[encoded data removed]",
      "text/plain": [
       "<PIL.Image.Image image mode=RGBA size=96x32>"
      ]
     },
     "metadata": {},
     "output_type": "display_data"
    }
   ],
   "source": [
    "display_images([\n",
    "    gen4x4.generate(2),\n",
    "    gen4x4.generate(8192)\n",
    "])\n",
    "\n",
    "display_images([\n",
    "    gen4x4.generate(4),\n",
    "    gen4x4.generate(16384)\n",
    "])"
   ]
  },
  {
   "cell_type": "markdown",
   "id": "3da7baa8-0cf3-4b2c-b273-dda600edaef6",
   "metadata": {},
   "source": [
    "## Other patterns\n",
    "\n",
    "There are other things that may prove to be useful, such as characteristics in the numbers that repeat or otherwise show some kind of pattern.\n",
    "\n",
    "For example, every step by a power of 2 is a single pixel:"
   ]
  },
  {
   "cell_type": "code",
   "execution_count": 21,
   "id": "48ae5139-22ed-4c76-95d7-48b8694bb7b3",
   "metadata": {},
   "outputs": [
    {
     "data": {
      "image/png": "[encoded data removed]",
      "text/plain": [
       "<PIL.Image.Image image mode=RGBA size=720x32>"
      ]
     },
     "metadata": {},
     "output_type": "display_data"
    }
   ],
   "source": [
    "display_images([\n",
    "    gen4x4.generate(2),\n",
    "    gen4x4.generate(4),\n",
    "    gen4x4.generate(8),\n",
    "    gen4x4.generate(16),\n",
    "    gen4x4.generate(32),\n",
    "    gen4x4.generate(64),\n",
    "    gen4x4.generate(128),\n",
    "    gen4x4.generate(256),\n",
    "    gen4x4.generate(512),\n",
    "    gen4x4.generate(1024),\n",
    "    gen4x4.generate(2048),\n",
    "    gen4x4.generate(4096),\n",
    "    gen4x4.generate(8192),\n",
    "    gen4x4.generate(16384),\n",
    "    gen4x4.generate(32768)\n",
    "])"
   ]
  },
  {
   "cell_type": "markdown",
   "id": "daf078db",
   "metadata": {},
   "source": [
    "## A different algorithm\n",
    "\n",
    "It may also be possible to simplify the problem by using a different algorithm to generate the permutations in the first place, perhaps something with a more even distribution of \"key\" iterations that can be used to reduce the numbers."
   ]
  },
  {
   "cell_type": "markdown",
   "id": "f5524077",
   "metadata": {},
   "source": [
    "# Compressing the index\n",
    "\n",
    "There may be ways to reduce the _apparent_ size of the indexes to make them easier to move around (and copy and paste, and use in http requests, etc). This won't affect the actual size of the numbers for the calculations, though.\n",
    "\n",
    "For example, could we use a different numbering system? Decimal has 10 digits from 0-9, but how about using 62 from 0-9, a-z and A-Z? I'd be curious to see what that looks like."
   ]
  }
 ],
 "metadata": {
  "interpreter": {
   "hash": "31f2aee4e71d21fbe5cf8b01ff0e069b9275f58929596ceb00d14d90e3e16cd6"
  },
  "kernelspec": {
   "display_name": "Python 3 (ipykernel)",
   "language": "python",
   "name": "python3"
  },
  "language_info": {
   "codemirror_mode": {
    "name": "ipython",
    "version": 3
   },
   "file_extension": ".py",
   "mimetype": "text/x-python",
   "name": "python",
   "nbconvert_exporter": "python",
   "pygments_lexer": "ipython3",
   "version": "3.8.13"
  },
  "toc-autonumbering": false,
  "toc-showcode": false,
  "toc-showmarkdowntxt": false,
  "toc-showtags": false
 },
 "nbformat": 4,
 "nbformat_minor": 5
}
