{
 "cells": [
  {
   "cell_type": "markdown",
   "id": "1fc3144a-0ed3-4eda-8209-cb5596c7077b",
   "metadata": {
    "tags": []
   },
   "source": [
    "# Preface\n",
    "\n",
    "If you were to generate every single possible permutation of pixels in an image of a given size and color depth, then you would in your possession _every_ image of that size and color depth that there was _or ever will be_.\n",
    "\n",
    "This is really cool!\n",
    "\n",
    "Imagine digging into that pandora's box with machine learning to identity objects..\n",
    "\n",
    "Could you dig out images from the past?\n",
    "\n",
    "From the future?\n",
    "\n",
    "Is this where technology and philosophy meet.. again?"
   ]
  },
  {
   "cell_type": "markdown",
   "id": "3e11f31e-649d-464a-baaa-092cfe2ed7bf",
   "metadata": {},
   "source": [
    "# The goal\n",
    "\n",
    "It doesn't make sense to generate all of these images in advance, because there'd be an awful lot of them and the majority of them would be utterly incomprehensible noise.\n",
    "\n",
    "It also doesn't make sense to randomly generate all of these images, since you could never guarantee they would _all_ be generated, nor that you wouldn't see the same image more than once.\n",
    "\n",
    "So the idea is to create an algorithm or a process to generate an image _deterministically_ using an index to uniquely identify it."
   ]
  },
  {
   "cell_type": "markdown",
   "id": "8c540215-e717-4e00-93f4-1fb4fb224a6d",
   "metadata": {},
   "source": [
    "# The problem\n",
    "\n",
    "To generate _actually useful_ images they would need to be of a decent size and color depth. However beyond a certain point the number of permutations becomes incomprehensible and actually inaccessible. Computers simply can't count that high.\n",
    "\n",
    "The number of permutations for 256x256 image with 256 colors is too large for Python to even just display without an error.\n",
    "\n",
    "So we need to find a way to drastically reduce the size of the numbers, without losing any precision, while still being able to traverse permutations sequentially."
   ]
  },
  {
   "cell_type": "markdown",
   "id": "8a964e4c-63ab-4832-97d1-52c9be9d2140",
   "metadata": {
    "tags": []
   },
   "source": [
    "# Determining the number of images"
   ]
  },
  {
   "cell_type": "code",
   "execution_count": 1,
   "id": "737faf05-19d6-40ed-a7d0-cf28a2d925c5",
   "metadata": {},
   "outputs": [],
   "source": [
    "def num_permutations(num_pixels, num_colors):\n",
    "    return num_colors ** num_pixels"
   ]
  },
  {
   "cell_type": "code",
   "execution_count": 17,
   "id": "1188fa28-abcf-4b15-82a2-9d3e8ed5bc2f",
   "metadata": {},
   "outputs": [
    {
     "data": {
      "text/plain": [
       "512"
      ]
     },
     "execution_count": 17,
     "metadata": {},
     "output_type": "execute_result"
    }
   ],
   "source": [
    "# Number of permutations for a 3x3 image with 2 colors\n",
    "num_permutations(9, 2)"
   ]
  },
  {
   "cell_type": "markdown",
   "id": "eff14657-96e2-4f96-a7b5-449be7e8dac0",
   "metadata": {},
   "source": [
    "# Generating pixel data"
   ]
  },
  {
   "cell_type": "code",
   "execution_count": 2,
   "id": "29e64fdd-5f73-4069-a6cc-8d70e96ca3fc",
   "metadata": {},
   "outputs": [],
   "source": [
    "def get_pixel(index, pixel_index, num_pixels, num_colors):\n",
    "    return int((index / (num_colors ** pixel_index)) % num_colors)"
   ]
  },
  {
   "cell_type": "code",
   "execution_count": 20,
   "id": "bdff5e08-7fa6-4608-a73d-54b10c0c3089",
   "metadata": {},
   "outputs": [
    {
     "data": {
      "text/plain": [
       "1"
      ]
     },
     "execution_count": 20,
     "metadata": {},
     "output_type": "execute_result"
    }
   ],
   "source": [
    "# Get the first pixel of the second permutation\n",
    "get_pixel(1, 0, 0, 2)"
   ]
  },
  {
   "cell_type": "code",
   "execution_count": 21,
   "id": "18f46124-cead-46ef-9867-8f29ee4a77f0",
   "metadata": {},
   "outputs": [
    {
     "data": {
      "text/plain": [
       "0"
      ]
     },
     "execution_count": 21,
     "metadata": {},
     "output_type": "execute_result"
    }
   ],
   "source": [
    "# Get the second pixel of the second permutation\n",
    "get_pixel(1, 1, 0, 2)"
   ]
  },
  {
   "cell_type": "markdown",
   "id": "30da023b-b65a-4366-af23-d854e04015a9",
   "metadata": {
    "tags": []
   },
   "source": [
    "# Generating image data"
   ]
  },
  {
   "cell_type": "code",
   "execution_count": 13,
   "id": "16ac2110-fd73-4ef5-a227-a4fb37be505d",
   "metadata": {},
   "outputs": [],
   "source": [
    "def get_image(index, num_pixels, num_colors):\n",
    "    return list(map(lambda i: get_pixel(index, i, num_pixels, num_colors), range(0, num_pixels)))"
   ]
  },
  {
   "cell_type": "code",
   "execution_count": 14,
   "id": "7fbd31ba-1556-4196-a9f6-4637c2f52a80",
   "metadata": {},
   "outputs": [
    {
     "data": {
      "text/plain": [
       "[0, 0, 0, 0, 0, 0, 0, 0, 0]"
      ]
     },
     "execution_count": 14,
     "metadata": {},
     "output_type": "execute_result"
    }
   ],
   "source": [
    "# Get the first image\n",
    "get_image(0, 9, 2)"
   ]
  },
  {
   "cell_type": "code",
   "execution_count": 15,
   "id": "8f7a1f98-ab94-4f3f-82e9-d882d0a34bf3",
   "metadata": {},
   "outputs": [
    {
     "data": {
      "text/plain": [
       "[1, 1, 1, 1, 1, 1, 1, 1, 1]"
      ]
     },
     "execution_count": 15,
     "metadata": {},
     "output_type": "execute_result"
    }
   ],
   "source": [
    "# Get the last image\n",
    "get_image(num_permutations(9, 2) - 1, 9, 2)"
   ]
  },
  {
   "cell_type": "markdown",
   "id": "2bd62d12-eead-4b8e-8f89-41575b6fd41f",
   "metadata": {},
   "source": [
    "# Generating an image"
   ]
  },
  {
   "cell_type": "code",
   "execution_count": 8,
   "id": "d671ba87-f5c2-49cf-9c6e-902ef66f6c83",
   "metadata": {},
   "outputs": [],
   "source": [
    "from PIL import Image\n",
    "\n",
    "def generate_image(data, image_size, num_colors):\n",
    "    image = Image.new('RGB', (image_size, image_size))\n",
    "    \n",
    "    for y in range(0, image_size - 1):\n",
    "        for x in range(0, image_size - 1):\n",
    "            color = int((255 / num_colors) * data[x + y])\n",
    "            image.putpixel((x, y), (color, color, color))\n",
    "    \n",
    "    return image"
   ]
  },
  {
   "cell_type": "code",
   "execution_count": 10,
   "id": "1a666155-a6d8-4ef7-84aa-32fb33ca748b",
   "metadata": {},
   "outputs": [
    {
     "data": {
      "image/png": "[encoded data removed]",
      "text/plain": [
       "<PIL.Image.Image image mode=RGB size=32x32 at 0x7FC210783FD0>"
      ]
     },
     "execution_count": 10,
     "metadata": {},
     "output_type": "execute_result"
    }
   ],
   "source": [
    "# Generate an image\n",
    "image_size = 32\n",
    "num_colors = 2\n",
    "\n",
    "data = get_image(10, image_size * image_size, num_colors)\n",
    "\n",
    "generate_image(data, image_size, num_colors)"
   ]
  }
 ],
 "metadata": {
  "kernelspec": {
   "display_name": "Python 3 (ipykernel)",
   "language": "python",
   "name": "python3"
  },
  "language_info": {
   "codemirror_mode": {
    "name": "ipython",
    "version": 3
   },
   "file_extension": ".py",
   "mimetype": "text/x-python",
   "name": "python",
   "nbconvert_exporter": "python",
   "pygments_lexer": "ipython3",
   "version": "3.9.2"
  },
  "toc-autonumbering": false,
  "toc-showcode": false,
  "toc-showmarkdowntxt": false,
  "toc-showtags": false
 },
 "nbformat": 4,
 "nbformat_minor": 5
}
